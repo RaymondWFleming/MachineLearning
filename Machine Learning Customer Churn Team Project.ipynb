{
 "cells": [
  {
   "cell_type": "code",
   "execution_count": 1,
   "id": "00908382",
   "metadata": {
    "execution": {
     "iopub.execute_input": "2023-10-13T22:22:33.892771Z",
     "iopub.status.busy": "2023-10-13T22:22:33.892245Z",
     "iopub.status.idle": "2023-10-13T22:22:34.241408Z",
     "shell.execute_reply": "2023-10-13T22:22:34.240333Z"
    },
    "papermill": {
     "duration": 0.364198,
     "end_time": "2023-10-13T22:22:34.243796",
     "exception": false,
     "start_time": "2023-10-13T22:22:33.879598",
     "status": "completed"
    },
    "tags": []
   },
   "outputs": [
    {
     "name": "stdout",
     "output_type": "stream",
     "text": [
      "/kaggle/input/capstone-project-data/sample_submission.csv\n",
      "/kaggle/input/capstone-project-data/train.csv\n",
      "/kaggle/input/capstone-project-data/test.csv\n",
      "/kaggle/input/d/contextaware/churnfall23/sample_submission.csv\n",
      "/kaggle/input/d/contextaware/churnfall23/train.csv\n",
      "/kaggle/input/d/contextaware/churnfall23/test.csv\n"
     ]
    }
   ],
   "source": [
    "# This Python 3 environment comes with many helpful analytics libraries installed\n",
    "# It is defined by the kaggle/python Docker image: https://github.com/kaggle/docker-python\n",
    "# For example, here's several helpful packages to load\n",
    "\n",
    "import numpy as np # linear algebra\n",
    "import pandas as pd # data processing, CSV file I/O (e.g. pd.read_csv)\n",
    "\n",
    "# Input data files are available in the read-only \"../input/\" directory\n",
    "# For example, running this (by clicking run or pressing Shift+Enter) will list all files under the input directory\n",
    "\n",
    "import os\n",
    "for dirname, _, filenames in os.walk('/kaggle/input'):\n",
    "    for filename in filenames:\n",
    "        print(os.path.join(dirname, filename))\n",
    "\n",
    "# You can write up to 20GB to the current directory (/kaggle/working/) that gets preserved as output when you create a version using \"Save & Run All\" \n",
    "# You can also write temporary files to /kaggle/temp/, but they won't be saved outside of the current session"
   ]
  },
  {
   "cell_type": "code",
   "execution_count": 2,
   "id": "9e01135d",
   "metadata": {
    "execution": {
     "iopub.execute_input": "2023-10-13T22:22:34.266696Z",
     "iopub.status.busy": "2023-10-13T22:22:34.265943Z",
     "iopub.status.idle": "2023-10-13T22:22:35.699330Z",
     "shell.execute_reply": "2023-10-13T22:22:35.698154Z"
    },
    "papermill": {
     "duration": 1.447056,
     "end_time": "2023-10-13T22:22:35.701686",
     "exception": false,
     "start_time": "2023-10-13T22:22:34.254630",
     "status": "completed"
    },
    "tags": []
   },
   "outputs": [],
   "source": [
    "import numpy as np\n",
    "import pandas as pd\n",
    "import matplotlib.pyplot as mpl\n",
    "from sklearn.metrics import accuracy_score\n",
    "from sklearn.metrics import f1_score\n",
    "from sklearn.model_selection import train_test_split\n",
    "from sklearn import metrics\n",
    "from sklearn.impute import SimpleImputer\n",
    "from sklearn.utils import resample\n",
    "from sklearn.preprocessing import StandardScaler\n",
    "\n",
    "#Read train and test csv's into pandas dataframes\n",
    "train=pd.read_csv(\"/kaggle/input/d/contextaware/churnfall23/train.csv\")\n",
    "test=pd.read_csv(\"/kaggle/input/d/contextaware/churnfall23/test.csv\")"
   ]
  },
  {
   "cell_type": "code",
   "execution_count": 3,
   "id": "b5fc5bee",
   "metadata": {
    "execution": {
     "iopub.execute_input": "2023-10-13T22:22:35.724816Z",
     "iopub.status.busy": "2023-10-13T22:22:35.723978Z",
     "iopub.status.idle": "2023-10-13T22:22:35.743544Z",
     "shell.execute_reply": "2023-10-13T22:22:35.742854Z"
    },
    "papermill": {
     "duration": 0.032751,
     "end_time": "2023-10-13T22:22:35.745200",
     "exception": false,
     "start_time": "2023-10-13T22:22:35.712449",
     "status": "completed"
    },
    "tags": []
   },
   "outputs": [
    {
     "data": {
      "text/plain": [
       "ID                  0\n",
       "customerID          0\n",
       "gender              0\n",
       "SeniorCitizen       0\n",
       "Partner             0\n",
       "Dependents          0\n",
       "tenure              0\n",
       "PhoneService        0\n",
       "MultipleLines       0\n",
       "InternetService     0\n",
       "OnlineSecurity      0\n",
       "OnlineBackup        0\n",
       "DeviceProtection    0\n",
       "TechSupport         0\n",
       "StreamingTV         0\n",
       "StreamingMovies     0\n",
       "Contract            0\n",
       "PaperlessBilling    0\n",
       "PaymentMethod       0\n",
       "MonthlyCharges      0\n",
       "TotalCharges        0\n",
       "Churn               0\n",
       "dtype: int64"
      ]
     },
     "execution_count": 3,
     "metadata": {},
     "output_type": "execute_result"
    }
   ],
   "source": [
    "train.isnull().sum()"
   ]
  },
  {
   "cell_type": "code",
   "execution_count": 4,
   "id": "5a915685",
   "metadata": {
    "execution": {
     "iopub.execute_input": "2023-10-13T22:22:35.768257Z",
     "iopub.status.busy": "2023-10-13T22:22:35.767695Z",
     "iopub.status.idle": "2023-10-13T22:22:35.792626Z",
     "shell.execute_reply": "2023-10-13T22:22:35.791476Z"
    },
    "papermill": {
     "duration": 0.038754,
     "end_time": "2023-10-13T22:22:35.794697",
     "exception": false,
     "start_time": "2023-10-13T22:22:35.755943",
     "status": "completed"
    },
    "tags": []
   },
   "outputs": [
    {
     "name": "stdout",
     "output_type": "stream",
     "text": [
      "<class 'pandas.core.frame.DataFrame'>\n",
      "RangeIndex: 5634 entries, 0 to 5633\n",
      "Data columns (total 22 columns):\n",
      " #   Column            Non-Null Count  Dtype  \n",
      "---  ------            --------------  -----  \n",
      " 0   ID                5634 non-null   int64  \n",
      " 1   customerID        5634 non-null   object \n",
      " 2   gender            5634 non-null   object \n",
      " 3   SeniorCitizen     5634 non-null   int64  \n",
      " 4   Partner           5634 non-null   object \n",
      " 5   Dependents        5634 non-null   object \n",
      " 6   tenure            5634 non-null   int64  \n",
      " 7   PhoneService      5634 non-null   object \n",
      " 8   MultipleLines     5634 non-null   object \n",
      " 9   InternetService   5634 non-null   object \n",
      " 10  OnlineSecurity    5634 non-null   object \n",
      " 11  OnlineBackup      5634 non-null   object \n",
      " 12  DeviceProtection  5634 non-null   object \n",
      " 13  TechSupport       5634 non-null   object \n",
      " 14  StreamingTV       5634 non-null   object \n",
      " 15  StreamingMovies   5634 non-null   object \n",
      " 16  Contract          5634 non-null   object \n",
      " 17  PaperlessBilling  5634 non-null   object \n",
      " 18  PaymentMethod     5634 non-null   object \n",
      " 19  MonthlyCharges    5634 non-null   float64\n",
      " 20  TotalCharges      5634 non-null   object \n",
      " 21  Churn             5634 non-null   int64  \n",
      "dtypes: float64(1), int64(4), object(17)\n",
      "memory usage: 968.5+ KB\n"
     ]
    }
   ],
   "source": [
    "train.info()"
   ]
  },
  {
   "cell_type": "code",
   "execution_count": 5,
   "id": "42ab5c04",
   "metadata": {
    "execution": {
     "iopub.execute_input": "2023-10-13T22:22:35.818743Z",
     "iopub.status.busy": "2023-10-13T22:22:35.818406Z",
     "iopub.status.idle": "2023-10-13T22:22:35.825536Z",
     "shell.execute_reply": "2023-10-13T22:22:35.824627Z"
    },
    "papermill": {
     "duration": 0.021956,
     "end_time": "2023-10-13T22:22:35.827472",
     "exception": false,
     "start_time": "2023-10-13T22:22:35.805516",
     "status": "completed"
    },
    "tags": []
   },
   "outputs": [
    {
     "data": {
      "text/plain": [
       "Churn\n",
       "0    4139\n",
       "1    1495\n",
       "Name: count, dtype: int64"
      ]
     },
     "execution_count": 5,
     "metadata": {},
     "output_type": "execute_result"
    }
   ],
   "source": [
    "train.Churn.value_counts()"
   ]
  },
  {
   "cell_type": "markdown",
   "id": "b0a52527",
   "metadata": {
    "papermill": {
     "duration": 0.010465,
     "end_time": "2023-10-13T22:22:35.848837",
     "exception": false,
     "start_time": "2023-10-13T22:22:35.838372",
     "status": "completed"
    },
    "tags": []
   },
   "source": [
    "### There are around 3 times as many 0 as 1 in the Churn column, resampling may be a good approach. Due to the small dataset size, upsampling will likely provide a better result than downsampling."
   ]
  },
  {
   "cell_type": "code",
   "execution_count": 6,
   "id": "9e015079",
   "metadata": {
    "execution": {
     "iopub.execute_input": "2023-10-13T22:22:35.871989Z",
     "iopub.status.busy": "2023-10-13T22:22:35.871627Z",
     "iopub.status.idle": "2023-10-13T22:22:35.882030Z",
     "shell.execute_reply": "2023-10-13T22:22:35.881013Z"
    },
    "papermill": {
     "duration": 0.024445,
     "end_time": "2023-10-13T22:22:35.883963",
     "exception": false,
     "start_time": "2023-10-13T22:22:35.859518",
     "status": "completed"
    },
    "tags": []
   },
   "outputs": [],
   "source": [
    "\n",
    "#splitting Churn off from train to y, then dropping it from X.\n",
    "X=train\n",
    "y=train.Churn\n",
    "X.drop(['Churn'],inplace=True,axis=1)"
   ]
  },
  {
   "cell_type": "markdown",
   "id": "2fbc74fc",
   "metadata": {
    "execution": {
     "iopub.execute_input": "2023-10-12T11:32:47.886981Z",
     "iopub.status.busy": "2023-10-12T11:32:47.886569Z",
     "iopub.status.idle": "2023-10-12T11:32:47.904965Z",
     "shell.execute_reply": "2023-10-12T11:32:47.904120Z",
     "shell.execute_reply.started": "2023-10-12T11:32:47.886941Z"
    },
    "papermill": {
     "duration": 0.010723,
     "end_time": "2023-10-13T22:22:35.905919",
     "exception": false,
     "start_time": "2023-10-13T22:22:35.895196",
     "status": "completed"
    },
    "tags": []
   },
   "source": [
    "### upsampling to balance Churn"
   ]
  },
  {
   "cell_type": "code",
   "execution_count": 7,
   "id": "580d1903",
   "metadata": {
    "execution": {
     "iopub.execute_input": "2023-10-13T22:22:35.929132Z",
     "iopub.status.busy": "2023-10-13T22:22:35.928577Z",
     "iopub.status.idle": "2023-10-13T22:22:35.938028Z",
     "shell.execute_reply": "2023-10-13T22:22:35.937338Z"
    },
    "papermill": {
     "duration": 0.022985,
     "end_time": "2023-10-13T22:22:35.939753",
     "exception": false,
     "start_time": "2023-10-13T22:22:35.916768",
     "status": "completed"
    },
    "tags": []
   },
   "outputs": [],
   "source": [
    "Ximb, yimb = resample (X[y==1],\n",
    "                        y[y==1],\n",
    "                        replace=True,\n",
    "                        n_samples=X[y==0].shape[0],\n",
    "                        random_state=1)"
   ]
  },
  {
   "cell_type": "code",
   "execution_count": 8,
   "id": "7994a43b",
   "metadata": {
    "execution": {
     "iopub.execute_input": "2023-10-13T22:22:35.962842Z",
     "iopub.status.busy": "2023-10-13T22:22:35.962317Z",
     "iopub.status.idle": "2023-10-13T22:22:35.977392Z",
     "shell.execute_reply": "2023-10-13T22:22:35.976103Z"
    },
    "papermill": {
     "duration": 0.02849,
     "end_time": "2023-10-13T22:22:35.979156",
     "exception": false,
     "start_time": "2023-10-13T22:22:35.950666",
     "status": "completed"
    },
    "tags": []
   },
   "outputs": [
    {
     "name": "stdout",
     "output_type": "stream",
     "text": [
      "<class 'pandas.core.frame.DataFrame'>\n",
      "Index: 4139 entries, 3974 to 4996\n",
      "Data columns (total 21 columns):\n",
      " #   Column            Non-Null Count  Dtype  \n",
      "---  ------            --------------  -----  \n",
      " 0   ID                4139 non-null   int64  \n",
      " 1   customerID        4139 non-null   object \n",
      " 2   gender            4139 non-null   object \n",
      " 3   SeniorCitizen     4139 non-null   int64  \n",
      " 4   Partner           4139 non-null   object \n",
      " 5   Dependents        4139 non-null   object \n",
      " 6   tenure            4139 non-null   int64  \n",
      " 7   PhoneService      4139 non-null   object \n",
      " 8   MultipleLines     4139 non-null   object \n",
      " 9   InternetService   4139 non-null   object \n",
      " 10  OnlineSecurity    4139 non-null   object \n",
      " 11  OnlineBackup      4139 non-null   object \n",
      " 12  DeviceProtection  4139 non-null   object \n",
      " 13  TechSupport       4139 non-null   object \n",
      " 14  StreamingTV       4139 non-null   object \n",
      " 15  StreamingMovies   4139 non-null   object \n",
      " 16  Contract          4139 non-null   object \n",
      " 17  PaperlessBilling  4139 non-null   object \n",
      " 18  PaymentMethod     4139 non-null   object \n",
      " 19  MonthlyCharges    4139 non-null   float64\n",
      " 20  TotalCharges      4139 non-null   object \n",
      "dtypes: float64(1), int64(3), object(17)\n",
      "memory usage: 711.4+ KB\n"
     ]
    }
   ],
   "source": [
    "Ximb.info()"
   ]
  },
  {
   "cell_type": "code",
   "execution_count": 9,
   "id": "b93a9e63",
   "metadata": {
    "execution": {
     "iopub.execute_input": "2023-10-13T22:22:36.003438Z",
     "iopub.status.busy": "2023-10-13T22:22:36.002622Z",
     "iopub.status.idle": "2023-10-13T22:22:36.012319Z",
     "shell.execute_reply": "2023-10-13T22:22:36.011597Z"
    },
    "papermill": {
     "duration": 0.024259,
     "end_time": "2023-10-13T22:22:36.014379",
     "exception": false,
     "start_time": "2023-10-13T22:22:35.990120",
     "status": "completed"
    },
    "tags": []
   },
   "outputs": [],
   "source": [
    "#Add the extra rows into X and y, with a reindex\n",
    "X=pd.concat([X,Ximb],ignore_index=True)\n",
    "y=pd.concat([y,yimb],ignore_index=True)"
   ]
  },
  {
   "cell_type": "code",
   "execution_count": 10,
   "id": "d4fe3b38",
   "metadata": {
    "execution": {
     "iopub.execute_input": "2023-10-13T22:22:36.088563Z",
     "iopub.status.busy": "2023-10-13T22:22:36.088161Z",
     "iopub.status.idle": "2023-10-13T22:22:36.107774Z",
     "shell.execute_reply": "2023-10-13T22:22:36.106727Z"
    },
    "papermill": {
     "duration": 0.033572,
     "end_time": "2023-10-13T22:22:36.109666",
     "exception": false,
     "start_time": "2023-10-13T22:22:36.076094",
     "status": "completed"
    },
    "tags": []
   },
   "outputs": [
    {
     "name": "stdout",
     "output_type": "stream",
     "text": [
      "<class 'pandas.core.frame.DataFrame'>\n",
      "RangeIndex: 9773 entries, 0 to 9772\n",
      "Data columns (total 21 columns):\n",
      " #   Column            Non-Null Count  Dtype  \n",
      "---  ------            --------------  -----  \n",
      " 0   ID                9773 non-null   int64  \n",
      " 1   customerID        9773 non-null   object \n",
      " 2   gender            9773 non-null   object \n",
      " 3   SeniorCitizen     9773 non-null   int64  \n",
      " 4   Partner           9773 non-null   object \n",
      " 5   Dependents        9773 non-null   object \n",
      " 6   tenure            9773 non-null   int64  \n",
      " 7   PhoneService      9773 non-null   object \n",
      " 8   MultipleLines     9773 non-null   object \n",
      " 9   InternetService   9773 non-null   object \n",
      " 10  OnlineSecurity    9773 non-null   object \n",
      " 11  OnlineBackup      9773 non-null   object \n",
      " 12  DeviceProtection  9773 non-null   object \n",
      " 13  TechSupport       9773 non-null   object \n",
      " 14  StreamingTV       9773 non-null   object \n",
      " 15  StreamingMovies   9773 non-null   object \n",
      " 16  Contract          9773 non-null   object \n",
      " 17  PaperlessBilling  9773 non-null   object \n",
      " 18  PaymentMethod     9773 non-null   object \n",
      " 19  MonthlyCharges    9773 non-null   float64\n",
      " 20  TotalCharges      9773 non-null   object \n",
      "dtypes: float64(1), int64(3), object(17)\n",
      "memory usage: 1.6+ MB\n"
     ]
    }
   ],
   "source": [
    "X.info()"
   ]
  },
  {
   "cell_type": "code",
   "execution_count": 11,
   "id": "0b8c1c5d",
   "metadata": {
    "execution": {
     "iopub.execute_input": "2023-10-13T22:22:36.133684Z",
     "iopub.status.busy": "2023-10-13T22:22:36.132693Z",
     "iopub.status.idle": "2023-10-13T22:22:36.140033Z",
     "shell.execute_reply": "2023-10-13T22:22:36.139353Z"
    },
    "papermill": {
     "duration": 0.020841,
     "end_time": "2023-10-13T22:22:36.141659",
     "exception": false,
     "start_time": "2023-10-13T22:22:36.120818",
     "status": "completed"
    },
    "tags": []
   },
   "outputs": [
    {
     "data": {
      "text/plain": [
       "Churn\n",
       "1    5634\n",
       "0    4139\n",
       "Name: count, dtype: int64"
      ]
     },
     "execution_count": 11,
     "metadata": {},
     "output_type": "execute_result"
    }
   ],
   "source": [
    "y.value_counts()"
   ]
  },
  {
   "cell_type": "markdown",
   "id": "1c1de1cc",
   "metadata": {
    "papermill": {
     "duration": 0.010672,
     "end_time": "2023-10-13T22:22:36.163440",
     "exception": false,
     "start_time": "2023-10-13T22:22:36.152768",
     "status": "completed"
    },
    "tags": []
   },
   "source": [
    "### Churn isn't perfectly balanced, instead the resample got added to the original sample"
   ]
  },
  {
   "cell_type": "markdown",
   "id": "657240cd",
   "metadata": {
    "papermill": {
     "duration": 0.010881,
     "end_time": "2023-10-13T22:22:36.185759",
     "exception": false,
     "start_time": "2023-10-13T22:22:36.174878",
     "status": "completed"
    },
    "tags": []
   },
   "source": [
    "### TotalCharges is an object type, but has numeric data. It can be forced to a numeric type."
   ]
  },
  {
   "cell_type": "code",
   "execution_count": 12,
   "id": "798720b0",
   "metadata": {
    "execution": {
     "iopub.execute_input": "2023-10-13T22:22:36.209938Z",
     "iopub.status.busy": "2023-10-13T22:22:36.208924Z",
     "iopub.status.idle": "2023-10-13T22:22:36.218758Z",
     "shell.execute_reply": "2023-10-13T22:22:36.217847Z"
    },
    "papermill": {
     "duration": 0.023844,
     "end_time": "2023-10-13T22:22:36.220650",
     "exception": false,
     "start_time": "2023-10-13T22:22:36.196806",
     "status": "completed"
    },
    "tags": []
   },
   "outputs": [],
   "source": [
    "\n",
    "X.TotalCharges=pd.to_numeric(X['TotalCharges'], errors='coerce')\n",
    "\n",
    "test.TotalCharges=pd.to_numeric(test['TotalCharges'], errors='coerce')\n"
   ]
  },
  {
   "cell_type": "code",
   "execution_count": 13,
   "id": "51800653",
   "metadata": {
    "execution": {
     "iopub.execute_input": "2023-10-13T22:22:36.244780Z",
     "iopub.status.busy": "2023-10-13T22:22:36.243851Z",
     "iopub.status.idle": "2023-10-13T22:22:36.257898Z",
     "shell.execute_reply": "2023-10-13T22:22:36.257290Z"
    },
    "papermill": {
     "duration": 0.027762,
     "end_time": "2023-10-13T22:22:36.259614",
     "exception": false,
     "start_time": "2023-10-13T22:22:36.231852",
     "status": "completed"
    },
    "tags": []
   },
   "outputs": [
    {
     "data": {
      "text/plain": [
       "ID                  0\n",
       "customerID          0\n",
       "gender              0\n",
       "SeniorCitizen       0\n",
       "Partner             0\n",
       "Dependents          0\n",
       "tenure              0\n",
       "PhoneService        0\n",
       "MultipleLines       0\n",
       "InternetService     0\n",
       "OnlineSecurity      0\n",
       "OnlineBackup        0\n",
       "DeviceProtection    0\n",
       "TechSupport         0\n",
       "StreamingTV         0\n",
       "StreamingMovies     0\n",
       "Contract            0\n",
       "PaperlessBilling    0\n",
       "PaymentMethod       0\n",
       "MonthlyCharges      0\n",
       "TotalCharges        8\n",
       "dtype: int64"
      ]
     },
     "execution_count": 13,
     "metadata": {},
     "output_type": "execute_result"
    }
   ],
   "source": [
    "X.isnull().sum()"
   ]
  },
  {
   "cell_type": "markdown",
   "id": "f62f8c29",
   "metadata": {
    "papermill": {
     "duration": 0.011025,
     "end_time": "2023-10-13T22:22:36.281868",
     "exception": false,
     "start_time": "2023-10-13T22:22:36.270843",
     "status": "completed"
    },
    "tags": []
   },
   "source": [
    "### There are 8 null values in TotalCharges which were masked by the object type previously, they'll be imputed with a mean."
   ]
  },
  {
   "cell_type": "code",
   "execution_count": 14,
   "id": "2a46f9af",
   "metadata": {
    "execution": {
     "iopub.execute_input": "2023-10-13T22:22:36.305716Z",
     "iopub.status.busy": "2023-10-13T22:22:36.305399Z",
     "iopub.status.idle": "2023-10-13T22:22:36.311889Z",
     "shell.execute_reply": "2023-10-13T22:22:36.311189Z"
    },
    "papermill": {
     "duration": 0.020587,
     "end_time": "2023-10-13T22:22:36.313683",
     "exception": false,
     "start_time": "2023-10-13T22:22:36.293096",
     "status": "completed"
    },
    "tags": []
   },
   "outputs": [],
   "source": [
    "X.TotalCharges=X.TotalCharges.fillna(X.TotalCharges.mean())\n",
    "test.TotalCharges=test.TotalCharges.fillna(test.TotalCharges.mean())"
   ]
  },
  {
   "cell_type": "markdown",
   "id": "d99491c9",
   "metadata": {
    "papermill": {
     "duration": 0.011061,
     "end_time": "2023-10-13T22:22:36.336098",
     "exception": false,
     "start_time": "2023-10-13T22:22:36.325037",
     "status": "completed"
    },
    "tags": []
   },
   "source": [
    "### The remaining object types will need to be enumerated"
   ]
  },
  {
   "cell_type": "code",
   "execution_count": 15,
   "id": "b8a88f7f",
   "metadata": {
    "execution": {
     "iopub.execute_input": "2023-10-13T22:22:36.360368Z",
     "iopub.status.busy": "2023-10-13T22:22:36.359781Z",
     "iopub.status.idle": "2023-10-13T22:22:36.484301Z",
     "shell.execute_reply": "2023-10-13T22:22:36.483570Z"
    },
    "papermill": {
     "duration": 0.139105,
     "end_time": "2023-10-13T22:22:36.486370",
     "exception": false,
     "start_time": "2023-10-13T22:22:36.347265",
     "status": "completed"
    },
    "tags": []
   },
   "outputs": [],
   "source": [
    "class_mapping={label:idx for idx, label in (enumerate(np.unique(X['gender'])))}\n",
    "X['gender']=X['gender'].map(class_mapping)\n",
    "\n",
    "class_mapping={label:idx for idx, label in (enumerate(np.unique(X['Partner'])))}\n",
    "X['Partner']=X['Partner'].map(class_mapping)\n",
    "\n",
    "class_mapping={label:idx for idx, label in (enumerate(np.unique(X['Dependents'])))}\n",
    "X['Dependents']=X['Dependents'].map(class_mapping)\n",
    "\n",
    "class_mapping={label:idx for idx, label in (enumerate(np.unique(X['PhoneService'])))}\n",
    "X['PhoneService']=X['PhoneService'].map(class_mapping)\n",
    "\n",
    "class_mapping={label:idx for idx, label in (enumerate(np.unique(X['MultipleLines'])))}\n",
    "X['MultipleLines']=X['MultipleLines'].map(class_mapping)\n",
    "\n",
    "class_mapping={label:idx for idx, label in (enumerate(np.unique(X['InternetService'])))}\n",
    "X['InternetService']=X['InternetService'].map(class_mapping)\n",
    "\n",
    "class_mapping={label:idx for idx, label in (enumerate(np.unique(X['OnlineSecurity'])))}\n",
    "X['OnlineSecurity']=X['OnlineSecurity'].map(class_mapping)\n",
    "\n",
    "class_mapping={label:idx for idx, label in (enumerate(np.unique(X['OnlineBackup'])))}\n",
    "X['OnlineBackup']=X['OnlineBackup'].map(class_mapping)\n",
    "\n",
    "class_mapping={label:idx for idx, label in (enumerate(np.unique(X['DeviceProtection'])))}\n",
    "X['DeviceProtection']=X['DeviceProtection'].map(class_mapping)\n",
    "\n",
    "class_mapping={label:idx for idx, label in (enumerate(np.unique(X['TechSupport'])))}\n",
    "X['TechSupport']=X['TechSupport'].map(class_mapping)\n",
    "\n",
    "class_mapping={label:idx for idx, label in (enumerate(np.unique(X['StreamingTV'])))}\n",
    "X['StreamingTV']=X['StreamingTV'].map(class_mapping)\n",
    "\n",
    "class_mapping={label:idx for idx, label in (enumerate(np.unique(X['StreamingMovies'])))}\n",
    "X['StreamingMovies']=X['StreamingMovies'].map(class_mapping)\n",
    "\n",
    "class_mapping={label:idx for idx, label in (enumerate(np.unique(X['Contract'])))}\n",
    "X['Contract']=X['Contract'].map(class_mapping)\n",
    "\n",
    "class_mapping={label:idx for idx, label in (enumerate(np.unique(X['PaperlessBilling'])))}\n",
    "X['PaperlessBilling']=X['PaperlessBilling'].map(class_mapping)\n",
    "\n",
    "class_mapping={label:idx for idx, label in (enumerate(np.unique(X['PaymentMethod'])))}\n",
    "X['PaymentMethod']=X['PaymentMethod'].map(class_mapping)\n",
    "\n",
    "\n",
    "\n",
    "\n",
    "\n",
    "\n",
    "class_mapping={label:idx for idx, label in (enumerate(np.unique(test['gender'])))}\n",
    "test['gender']=test['gender'].map(class_mapping)\n",
    "\n",
    "class_mapping={label:idx for idx, label in (enumerate(np.unique(test['Partner'])))}\n",
    "test['Partner']=test['Partner'].map(class_mapping)\n",
    "\n",
    "class_mapping={label:idx for idx, label in (enumerate(np.unique(test['Dependents'])))}\n",
    "test['Dependents']=test['Dependents'].map(class_mapping)\n",
    "\n",
    "class_mapping={label:idx for idx, label in (enumerate(np.unique(test['PhoneService'])))}\n",
    "test['PhoneService']=test['PhoneService'].map(class_mapping)\n",
    "\n",
    "class_mapping={label:idx for idx, label in (enumerate(np.unique(test['MultipleLines'])))}\n",
    "test['MultipleLines']=test['MultipleLines'].map(class_mapping)\n",
    "\n",
    "class_mapping={label:idx for idx, label in (enumerate(np.unique(test['InternetService'])))}\n",
    "test['InternetService']=test['InternetService'].map(class_mapping)\n",
    "\n",
    "class_mapping={label:idx for idx, label in (enumerate(np.unique(test['OnlineSecurity'])))}\n",
    "test['OnlineSecurity']=test['OnlineSecurity'].map(class_mapping)\n",
    "\n",
    "class_mapping={label:idx for idx, label in (enumerate(np.unique(test['OnlineBackup'])))}\n",
    "test['OnlineBackup']=test['OnlineBackup'].map(class_mapping)\n",
    "\n",
    "class_mapping={label:idx for idx, label in (enumerate(np.unique(test['DeviceProtection'])))}\n",
    "test['DeviceProtection']=test['DeviceProtection'].map(class_mapping)\n",
    "\n",
    "class_mapping={label:idx for idx, label in (enumerate(np.unique(test['TechSupport'])))}\n",
    "test['TechSupport']=test['TechSupport'].map(class_mapping)\n",
    "\n",
    "class_mapping={label:idx for idx, label in (enumerate(np.unique(test['StreamingTV'])))}\n",
    "test['StreamingTV']=test['StreamingTV'].map(class_mapping)\n",
    "\n",
    "class_mapping={label:idx for idx, label in (enumerate(np.unique(test['StreamingMovies'])))}\n",
    "test['StreamingMovies']=test['StreamingMovies'].map(class_mapping)\n",
    "\n",
    "class_mapping={label:idx for idx, label in (enumerate(np.unique(test['Contract'])))}\n",
    "test['Contract']=test['Contract'].map(class_mapping)\n",
    "\n",
    "class_mapping={label:idx for idx, label in (enumerate(np.unique(test['PaperlessBilling'])))}\n",
    "test['PaperlessBilling']=test['PaperlessBilling'].map(class_mapping)\n",
    "\n",
    "class_mapping={label:idx for idx, label in (enumerate(np.unique(test['PaymentMethod'])))}\n",
    "test['PaymentMethod']=test['PaymentMethod'].map(class_mapping)"
   ]
  },
  {
   "cell_type": "code",
   "execution_count": 16,
   "id": "52cfca3f",
   "metadata": {
    "execution": {
     "iopub.execute_input": "2023-10-13T22:22:36.511086Z",
     "iopub.status.busy": "2023-10-13T22:22:36.510495Z",
     "iopub.status.idle": "2023-10-13T22:22:36.522303Z",
     "shell.execute_reply": "2023-10-13T22:22:36.521338Z"
    },
    "papermill": {
     "duration": 0.026321,
     "end_time": "2023-10-13T22:22:36.524218",
     "exception": false,
     "start_time": "2023-10-13T22:22:36.497897",
     "status": "completed"
    },
    "tags": []
   },
   "outputs": [
    {
     "name": "stdout",
     "output_type": "stream",
     "text": [
      "<class 'pandas.core.frame.DataFrame'>\n",
      "RangeIndex: 9773 entries, 0 to 9772\n",
      "Data columns (total 21 columns):\n",
      " #   Column            Non-Null Count  Dtype  \n",
      "---  ------            --------------  -----  \n",
      " 0   ID                9773 non-null   int64  \n",
      " 1   customerID        9773 non-null   object \n",
      " 2   gender            9773 non-null   int64  \n",
      " 3   SeniorCitizen     9773 non-null   int64  \n",
      " 4   Partner           9773 non-null   int64  \n",
      " 5   Dependents        9773 non-null   int64  \n",
      " 6   tenure            9773 non-null   int64  \n",
      " 7   PhoneService      9773 non-null   int64  \n",
      " 8   MultipleLines     9773 non-null   int64  \n",
      " 9   InternetService   9773 non-null   int64  \n",
      " 10  OnlineSecurity    9773 non-null   int64  \n",
      " 11  OnlineBackup      9773 non-null   int64  \n",
      " 12  DeviceProtection  9773 non-null   int64  \n",
      " 13  TechSupport       9773 non-null   int64  \n",
      " 14  StreamingTV       9773 non-null   int64  \n",
      " 15  StreamingMovies   9773 non-null   int64  \n",
      " 16  Contract          9773 non-null   int64  \n",
      " 17  PaperlessBilling  9773 non-null   int64  \n",
      " 18  PaymentMethod     9773 non-null   int64  \n",
      " 19  MonthlyCharges    9773 non-null   float64\n",
      " 20  TotalCharges      9773 non-null   float64\n",
      "dtypes: float64(2), int64(18), object(1)\n",
      "memory usage: 1.6+ MB\n"
     ]
    }
   ],
   "source": [
    "X.info()"
   ]
  },
  {
   "cell_type": "code",
   "execution_count": 17,
   "id": "cc5dd9cd",
   "metadata": {
    "execution": {
     "iopub.execute_input": "2023-10-13T22:22:36.548165Z",
     "iopub.status.busy": "2023-10-13T22:22:36.547836Z",
     "iopub.status.idle": "2023-10-13T22:22:36.614860Z",
     "shell.execute_reply": "2023-10-13T22:22:36.613915Z"
    },
    "papermill": {
     "duration": 0.081114,
     "end_time": "2023-10-13T22:22:36.616775",
     "exception": false,
     "start_time": "2023-10-13T22:22:36.535661",
     "status": "completed"
    },
    "tags": []
   },
   "outputs": [
    {
     "data": {
      "text/html": [
       "<div>\n",
       "<style scoped>\n",
       "    .dataframe tbody tr th:only-of-type {\n",
       "        vertical-align: middle;\n",
       "    }\n",
       "\n",
       "    .dataframe tbody tr th {\n",
       "        vertical-align: top;\n",
       "    }\n",
       "\n",
       "    .dataframe thead th {\n",
       "        text-align: right;\n",
       "    }\n",
       "</style>\n",
       "<table border=\"1\" class=\"dataframe\">\n",
       "  <thead>\n",
       "    <tr style=\"text-align: right;\">\n",
       "      <th></th>\n",
       "      <th>ID</th>\n",
       "      <th>gender</th>\n",
       "      <th>SeniorCitizen</th>\n",
       "      <th>Partner</th>\n",
       "      <th>Dependents</th>\n",
       "      <th>tenure</th>\n",
       "      <th>PhoneService</th>\n",
       "      <th>MultipleLines</th>\n",
       "      <th>InternetService</th>\n",
       "      <th>OnlineSecurity</th>\n",
       "      <th>OnlineBackup</th>\n",
       "      <th>DeviceProtection</th>\n",
       "      <th>TechSupport</th>\n",
       "      <th>StreamingTV</th>\n",
       "      <th>StreamingMovies</th>\n",
       "      <th>Contract</th>\n",
       "      <th>PaperlessBilling</th>\n",
       "      <th>PaymentMethod</th>\n",
       "      <th>MonthlyCharges</th>\n",
       "      <th>TotalCharges</th>\n",
       "    </tr>\n",
       "  </thead>\n",
       "  <tbody>\n",
       "    <tr>\n",
       "      <th>count</th>\n",
       "      <td>9773.000000</td>\n",
       "      <td>9773.000000</td>\n",
       "      <td>9773.000000</td>\n",
       "      <td>9773.000000</td>\n",
       "      <td>9773.000000</td>\n",
       "      <td>9773.000000</td>\n",
       "      <td>9773.000000</td>\n",
       "      <td>9773.000000</td>\n",
       "      <td>9773.000000</td>\n",
       "      <td>9773.000000</td>\n",
       "      <td>9773.000000</td>\n",
       "      <td>9773.000000</td>\n",
       "      <td>9773.000000</td>\n",
       "      <td>9773.000000</td>\n",
       "      <td>9773.00000</td>\n",
       "      <td>9773.000000</td>\n",
       "      <td>9773.000000</td>\n",
       "      <td>9773.000000</td>\n",
       "      <td>9773.000000</td>\n",
       "      <td>9773.000000</td>\n",
       "    </tr>\n",
       "    <tr>\n",
       "      <th>mean</th>\n",
       "      <td>3529.699376</td>\n",
       "      <td>0.499130</td>\n",
       "      <td>0.203520</td>\n",
       "      <td>0.438248</td>\n",
       "      <td>0.249667</td>\n",
       "      <td>26.632968</td>\n",
       "      <td>0.903919</td>\n",
       "      <td>0.978717</td>\n",
       "      <td>0.844981</td>\n",
       "      <td>0.623555</td>\n",
       "      <td>0.800368</td>\n",
       "      <td>0.798527</td>\n",
       "      <td>0.627648</td>\n",
       "      <td>0.976977</td>\n",
       "      <td>0.97534</td>\n",
       "      <td>0.457894</td>\n",
       "      <td>0.658242</td>\n",
       "      <td>1.661823</td>\n",
       "      <td>69.202573</td>\n",
       "      <td>2000.904659</td>\n",
       "    </tr>\n",
       "    <tr>\n",
       "      <th>std</th>\n",
       "      <td>2031.863423</td>\n",
       "      <td>0.500025</td>\n",
       "      <td>0.402636</td>\n",
       "      <td>0.496197</td>\n",
       "      <td>0.432843</td>\n",
       "      <td>23.741497</td>\n",
       "      <td>0.294717</td>\n",
       "      <td>0.950557</td>\n",
       "      <td>0.653100</td>\n",
       "      <td>0.842975</td>\n",
       "      <td>0.901375</td>\n",
       "      <td>0.900965</td>\n",
       "      <td>0.844792</td>\n",
       "      <td>0.922932</td>\n",
       "      <td>0.92289</td>\n",
       "      <td>0.741435</td>\n",
       "      <td>0.474323</td>\n",
       "      <td>0.995966</td>\n",
       "      <td>28.362806</td>\n",
       "      <td>2170.412972</td>\n",
       "    </tr>\n",
       "    <tr>\n",
       "      <th>min</th>\n",
       "      <td>1.000000</td>\n",
       "      <td>0.000000</td>\n",
       "      <td>0.000000</td>\n",
       "      <td>0.000000</td>\n",
       "      <td>0.000000</td>\n",
       "      <td>0.000000</td>\n",
       "      <td>0.000000</td>\n",
       "      <td>0.000000</td>\n",
       "      <td>0.000000</td>\n",
       "      <td>0.000000</td>\n",
       "      <td>0.000000</td>\n",
       "      <td>0.000000</td>\n",
       "      <td>0.000000</td>\n",
       "      <td>0.000000</td>\n",
       "      <td>0.00000</td>\n",
       "      <td>0.000000</td>\n",
       "      <td>0.000000</td>\n",
       "      <td>0.000000</td>\n",
       "      <td>18.400000</td>\n",
       "      <td>18.850000</td>\n",
       "    </tr>\n",
       "    <tr>\n",
       "      <th>25%</th>\n",
       "      <td>1789.000000</td>\n",
       "      <td>0.000000</td>\n",
       "      <td>0.000000</td>\n",
       "      <td>0.000000</td>\n",
       "      <td>0.000000</td>\n",
       "      <td>5.000000</td>\n",
       "      <td>1.000000</td>\n",
       "      <td>0.000000</td>\n",
       "      <td>0.000000</td>\n",
       "      <td>0.000000</td>\n",
       "      <td>0.000000</td>\n",
       "      <td>0.000000</td>\n",
       "      <td>0.000000</td>\n",
       "      <td>0.000000</td>\n",
       "      <td>0.00000</td>\n",
       "      <td>0.000000</td>\n",
       "      <td>0.000000</td>\n",
       "      <td>1.000000</td>\n",
       "      <td>48.350000</td>\n",
       "      <td>261.250000</td>\n",
       "    </tr>\n",
       "    <tr>\n",
       "      <th>50%</th>\n",
       "      <td>3528.000000</td>\n",
       "      <td>0.000000</td>\n",
       "      <td>0.000000</td>\n",
       "      <td>0.000000</td>\n",
       "      <td>0.000000</td>\n",
       "      <td>19.000000</td>\n",
       "      <td>1.000000</td>\n",
       "      <td>1.000000</td>\n",
       "      <td>1.000000</td>\n",
       "      <td>0.000000</td>\n",
       "      <td>0.000000</td>\n",
       "      <td>0.000000</td>\n",
       "      <td>0.000000</td>\n",
       "      <td>1.000000</td>\n",
       "      <td>1.00000</td>\n",
       "      <td>0.000000</td>\n",
       "      <td>1.000000</td>\n",
       "      <td>2.000000</td>\n",
       "      <td>75.300000</td>\n",
       "      <td>1101.850000</td>\n",
       "    </tr>\n",
       "    <tr>\n",
       "      <th>75%</th>\n",
       "      <td>5316.000000</td>\n",
       "      <td>1.000000</td>\n",
       "      <td>0.000000</td>\n",
       "      <td>1.000000</td>\n",
       "      <td>0.000000</td>\n",
       "      <td>47.000000</td>\n",
       "      <td>1.000000</td>\n",
       "      <td>2.000000</td>\n",
       "      <td>1.000000</td>\n",
       "      <td>1.000000</td>\n",
       "      <td>2.000000</td>\n",
       "      <td>2.000000</td>\n",
       "      <td>1.000000</td>\n",
       "      <td>2.000000</td>\n",
       "      <td>2.00000</td>\n",
       "      <td>1.000000</td>\n",
       "      <td>1.000000</td>\n",
       "      <td>2.000000</td>\n",
       "      <td>92.200000</td>\n",
       "      <td>3162.650000</td>\n",
       "    </tr>\n",
       "    <tr>\n",
       "      <th>max</th>\n",
       "      <td>7043.000000</td>\n",
       "      <td>1.000000</td>\n",
       "      <td>1.000000</td>\n",
       "      <td>1.000000</td>\n",
       "      <td>1.000000</td>\n",
       "      <td>72.000000</td>\n",
       "      <td>1.000000</td>\n",
       "      <td>2.000000</td>\n",
       "      <td>2.000000</td>\n",
       "      <td>2.000000</td>\n",
       "      <td>2.000000</td>\n",
       "      <td>2.000000</td>\n",
       "      <td>2.000000</td>\n",
       "      <td>2.000000</td>\n",
       "      <td>2.00000</td>\n",
       "      <td>2.000000</td>\n",
       "      <td>1.000000</td>\n",
       "      <td>3.000000</td>\n",
       "      <td>118.750000</td>\n",
       "      <td>8684.800000</td>\n",
       "    </tr>\n",
       "  </tbody>\n",
       "</table>\n",
       "</div>"
      ],
      "text/plain": [
       "                ID       gender  SeniorCitizen      Partner   Dependents  \\\n",
       "count  9773.000000  9773.000000    9773.000000  9773.000000  9773.000000   \n",
       "mean   3529.699376     0.499130       0.203520     0.438248     0.249667   \n",
       "std    2031.863423     0.500025       0.402636     0.496197     0.432843   \n",
       "min       1.000000     0.000000       0.000000     0.000000     0.000000   \n",
       "25%    1789.000000     0.000000       0.000000     0.000000     0.000000   \n",
       "50%    3528.000000     0.000000       0.000000     0.000000     0.000000   \n",
       "75%    5316.000000     1.000000       0.000000     1.000000     0.000000   \n",
       "max    7043.000000     1.000000       1.000000     1.000000     1.000000   \n",
       "\n",
       "            tenure  PhoneService  MultipleLines  InternetService  \\\n",
       "count  9773.000000   9773.000000    9773.000000      9773.000000   \n",
       "mean     26.632968      0.903919       0.978717         0.844981   \n",
       "std      23.741497      0.294717       0.950557         0.653100   \n",
       "min       0.000000      0.000000       0.000000         0.000000   \n",
       "25%       5.000000      1.000000       0.000000         0.000000   \n",
       "50%      19.000000      1.000000       1.000000         1.000000   \n",
       "75%      47.000000      1.000000       2.000000         1.000000   \n",
       "max      72.000000      1.000000       2.000000         2.000000   \n",
       "\n",
       "       OnlineSecurity  OnlineBackup  DeviceProtection  TechSupport  \\\n",
       "count     9773.000000   9773.000000       9773.000000  9773.000000   \n",
       "mean         0.623555      0.800368          0.798527     0.627648   \n",
       "std          0.842975      0.901375          0.900965     0.844792   \n",
       "min          0.000000      0.000000          0.000000     0.000000   \n",
       "25%          0.000000      0.000000          0.000000     0.000000   \n",
       "50%          0.000000      0.000000          0.000000     0.000000   \n",
       "75%          1.000000      2.000000          2.000000     1.000000   \n",
       "max          2.000000      2.000000          2.000000     2.000000   \n",
       "\n",
       "       StreamingTV  StreamingMovies     Contract  PaperlessBilling  \\\n",
       "count  9773.000000       9773.00000  9773.000000       9773.000000   \n",
       "mean      0.976977          0.97534     0.457894          0.658242   \n",
       "std       0.922932          0.92289     0.741435          0.474323   \n",
       "min       0.000000          0.00000     0.000000          0.000000   \n",
       "25%       0.000000          0.00000     0.000000          0.000000   \n",
       "50%       1.000000          1.00000     0.000000          1.000000   \n",
       "75%       2.000000          2.00000     1.000000          1.000000   \n",
       "max       2.000000          2.00000     2.000000          1.000000   \n",
       "\n",
       "       PaymentMethod  MonthlyCharges  TotalCharges  \n",
       "count    9773.000000     9773.000000   9773.000000  \n",
       "mean        1.661823       69.202573   2000.904659  \n",
       "std         0.995966       28.362806   2170.412972  \n",
       "min         0.000000       18.400000     18.850000  \n",
       "25%         1.000000       48.350000    261.250000  \n",
       "50%         2.000000       75.300000   1101.850000  \n",
       "75%         2.000000       92.200000   3162.650000  \n",
       "max         3.000000      118.750000   8684.800000  "
      ]
     },
     "execution_count": 17,
     "metadata": {},
     "output_type": "execute_result"
    }
   ],
   "source": [
    "X.describe()"
   ]
  },
  {
   "cell_type": "markdown",
   "id": "7cc8afd2",
   "metadata": {
    "papermill": {
     "duration": 0.01146,
     "end_time": "2023-10-13T22:22:36.640019",
     "exception": false,
     "start_time": "2023-10-13T22:22:36.628559",
     "status": "completed"
    },
    "tags": []
   },
   "source": [
    "### All data types are now numeric, except customerID which is irrelevant and will be dropped."
   ]
  },
  {
   "cell_type": "code",
   "execution_count": 18,
   "id": "a2fb0617",
   "metadata": {
    "execution": {
     "iopub.execute_input": "2023-10-13T22:22:36.665072Z",
     "iopub.status.busy": "2023-10-13T22:22:36.664253Z",
     "iopub.status.idle": "2023-10-13T22:22:36.672312Z",
     "shell.execute_reply": "2023-10-13T22:22:36.671505Z"
    },
    "papermill": {
     "duration": 0.022708,
     "end_time": "2023-10-13T22:22:36.674302",
     "exception": false,
     "start_time": "2023-10-13T22:22:36.651594",
     "status": "completed"
    },
    "tags": []
   },
   "outputs": [],
   "source": [
    "X.drop(['customerID'],inplace=True,axis=1)\n",
    "test.drop(['customerID'],inplace=True,axis=1)\n"
   ]
  },
  {
   "cell_type": "code",
   "execution_count": 19,
   "id": "35988113",
   "metadata": {
    "execution": {
     "iopub.execute_input": "2023-10-13T22:22:36.699637Z",
     "iopub.status.busy": "2023-10-13T22:22:36.699223Z",
     "iopub.status.idle": "2023-10-13T22:22:40.483798Z",
     "shell.execute_reply": "2023-10-13T22:22:40.482785Z"
    },
    "papermill": {
     "duration": 3.801644,
     "end_time": "2023-10-13T22:22:40.487911",
     "exception": false,
     "start_time": "2023-10-13T22:22:36.686267",
     "status": "completed"
    },
    "tags": []
   },
   "outputs": [
    {
     "data": {
      "text/plain": [
       "array([[<Axes: title={'center': 'ID'}>,\n",
       "        <Axes: title={'center': 'gender'}>],\n",
       "       [<Axes: title={'center': 'SeniorCitizen'}>,\n",
       "        <Axes: title={'center': 'Partner'}>],\n",
       "       [<Axes: title={'center': 'Dependents'}>,\n",
       "        <Axes: title={'center': 'tenure'}>],\n",
       "       [<Axes: title={'center': 'PhoneService'}>,\n",
       "        <Axes: title={'center': 'MultipleLines'}>],\n",
       "       [<Axes: title={'center': 'InternetService'}>,\n",
       "        <Axes: title={'center': 'OnlineSecurity'}>],\n",
       "       [<Axes: title={'center': 'OnlineBackup'}>,\n",
       "        <Axes: title={'center': 'DeviceProtection'}>],\n",
       "       [<Axes: title={'center': 'TechSupport'}>,\n",
       "        <Axes: title={'center': 'StreamingTV'}>],\n",
       "       [<Axes: title={'center': 'StreamingMovies'}>,\n",
       "        <Axes: title={'center': 'Contract'}>],\n",
       "       [<Axes: title={'center': 'PaperlessBilling'}>,\n",
       "        <Axes: title={'center': 'PaymentMethod'}>],\n",
       "       [<Axes: title={'center': 'MonthlyCharges'}>,\n",
       "        <Axes: title={'center': 'TotalCharges'}>]], dtype=object)"
      ]
     },
     "execution_count": 19,
     "metadata": {},
     "output_type": "execute_result"
    },
    {
     "data": {
      "image/png": "[encoded data removed]",
      "text/plain": [
       "<Figure size 3000x2000 with 20 Axes>"
      ]
     },
     "metadata": {},
     "output_type": "display_data"
    }
   ],
   "source": [
    "X.hist(figsize=(30,20),layout=(10,2))"
   ]
  },
  {
   "cell_type": "markdown",
   "id": "5834299c",
   "metadata": {
    "papermill": {
     "duration": 0.014133,
     "end_time": "2023-10-13T22:22:40.516966",
     "exception": false,
     "start_time": "2023-10-13T22:22:40.502833",
     "status": "completed"
    },
    "tags": []
   },
   "source": [
    "#### MonthlyCharges, TotalCharges, and Tenure are all non-normal, with TotalCharges and Tenure being heavily right skewed.  MonthlyCharges looks like it may be relatively normal and a bit left skew, but there is a large count of low charge customers as well.   Its unlikely that a transform will correct any of these, but this will reduce accuracy overall. Nothing stands out which could indicate outliers for this dataset."
   ]
  },
  {
   "cell_type": "code",
   "execution_count": 20,
   "id": "ab47b051",
   "metadata": {
    "execution": {
     "iopub.execute_input": "2023-10-13T22:22:40.547300Z",
     "iopub.status.busy": "2023-10-13T22:22:40.546576Z",
     "iopub.status.idle": "2023-10-13T22:22:40.596576Z",
     "shell.execute_reply": "2023-10-13T22:22:40.595897Z"
    },
    "papermill": {
     "duration": 0.067031,
     "end_time": "2023-10-13T22:22:40.598242",
     "exception": false,
     "start_time": "2023-10-13T22:22:40.531211",
     "status": "completed"
    },
    "tags": []
   },
   "outputs": [
    {
     "data": {
      "text/html": [
       "<div>\n",
       "<style scoped>\n",
       "    .dataframe tbody tr th:only-of-type {\n",
       "        vertical-align: middle;\n",
       "    }\n",
       "\n",
       "    .dataframe tbody tr th {\n",
       "        vertical-align: top;\n",
       "    }\n",
       "\n",
       "    .dataframe thead th {\n",
       "        text-align: right;\n",
       "    }\n",
       "</style>\n",
       "<table border=\"1\" class=\"dataframe\">\n",
       "  <thead>\n",
       "    <tr style=\"text-align: right;\">\n",
       "      <th></th>\n",
       "      <th>y</th>\n",
       "      <th>ID</th>\n",
       "      <th>gender</th>\n",
       "      <th>SeniorCitizen</th>\n",
       "      <th>Partner</th>\n",
       "      <th>Dependents</th>\n",
       "      <th>tenure</th>\n",
       "      <th>PhoneService</th>\n",
       "      <th>MultipleLines</th>\n",
       "      <th>InternetService</th>\n",
       "      <th>...</th>\n",
       "      <th>OnlineBackup</th>\n",
       "      <th>DeviceProtection</th>\n",
       "      <th>TechSupport</th>\n",
       "      <th>StreamingTV</th>\n",
       "      <th>StreamingMovies</th>\n",
       "      <th>Contract</th>\n",
       "      <th>PaperlessBilling</th>\n",
       "      <th>PaymentMethod</th>\n",
       "      <th>MonthlyCharges</th>\n",
       "      <th>TotalCharges</th>\n",
       "    </tr>\n",
       "  </thead>\n",
       "  <tbody>\n",
       "    <tr>\n",
       "      <th>y</th>\n",
       "      <td>1.000000</td>\n",
       "      <td>0.017830</td>\n",
       "      <td>-0.007496</td>\n",
       "      <td>0.154493</td>\n",
       "      <td>-0.155296</td>\n",
       "      <td>-0.186895</td>\n",
       "      <td>-0.395504</td>\n",
       "      <td>0.018495</td>\n",
       "      <td>0.048564</td>\n",
       "      <td>-0.061079</td>\n",
       "      <td>...</td>\n",
       "      <td>-0.210287</td>\n",
       "      <td>-0.190528</td>\n",
       "      <td>-0.325098</td>\n",
       "      <td>-0.029235</td>\n",
       "      <td>-0.038387</td>\n",
       "      <td>-0.499351</td>\n",
       "      <td>0.226802</td>\n",
       "      <td>0.141453</td>\n",
       "      <td>0.237520</td>\n",
       "      <td>-0.224196</td>\n",
       "    </tr>\n",
       "    <tr>\n",
       "      <th>ID</th>\n",
       "      <td>0.017830</td>\n",
       "      <td>1.000000</td>\n",
       "      <td>0.002025</td>\n",
       "      <td>0.026985</td>\n",
       "      <td>0.013168</td>\n",
       "      <td>0.007984</td>\n",
       "      <td>0.010838</td>\n",
       "      <td>-0.016289</td>\n",
       "      <td>-0.005457</td>\n",
       "      <td>-0.008031</td>\n",
       "      <td>...</td>\n",
       "      <td>0.002448</td>\n",
       "      <td>-0.003105</td>\n",
       "      <td>0.007069</td>\n",
       "      <td>-0.004645</td>\n",
       "      <td>-0.025362</td>\n",
       "      <td>0.009717</td>\n",
       "      <td>0.001225</td>\n",
       "      <td>0.010791</td>\n",
       "      <td>-0.013025</td>\n",
       "      <td>0.008229</td>\n",
       "    </tr>\n",
       "    <tr>\n",
       "      <th>gender</th>\n",
       "      <td>-0.007496</td>\n",
       "      <td>0.002025</td>\n",
       "      <td>1.000000</td>\n",
       "      <td>0.011299</td>\n",
       "      <td>0.013291</td>\n",
       "      <td>-0.004670</td>\n",
       "      <td>0.028269</td>\n",
       "      <td>0.000475</td>\n",
       "      <td>0.000822</td>\n",
       "      <td>-0.008404</td>\n",
       "      <td>...</td>\n",
       "      <td>-0.002769</td>\n",
       "      <td>0.010628</td>\n",
       "      <td>-0.022206</td>\n",
       "      <td>-0.011907</td>\n",
       "      <td>-0.023442</td>\n",
       "      <td>0.013634</td>\n",
       "      <td>-0.015923</td>\n",
       "      <td>0.009375</td>\n",
       "      <td>-0.022747</td>\n",
       "      <td>0.022555</td>\n",
       "    </tr>\n",
       "    <tr>\n",
       "      <th>SeniorCitizen</th>\n",
       "      <td>0.154493</td>\n",
       "      <td>0.026985</td>\n",
       "      <td>0.011299</td>\n",
       "      <td>1.000000</td>\n",
       "      <td>0.016045</td>\n",
       "      <td>-0.228760</td>\n",
       "      <td>-0.001306</td>\n",
       "      <td>-0.000772</td>\n",
       "      <td>0.140997</td>\n",
       "      <td>-0.018939</td>\n",
       "      <td>...</td>\n",
       "      <td>-0.023102</td>\n",
       "      <td>-0.031671</td>\n",
       "      <td>-0.163180</td>\n",
       "      <td>0.036018</td>\n",
       "      <td>0.049584</td>\n",
       "      <td>-0.151086</td>\n",
       "      <td>0.145616</td>\n",
       "      <td>-0.014639</td>\n",
       "      <td>0.192976</td>\n",
       "      <td>0.064750</td>\n",
       "    </tr>\n",
       "    <tr>\n",
       "      <th>Partner</th>\n",
       "      <td>-0.155296</td>\n",
       "      <td>0.013168</td>\n",
       "      <td>0.013291</td>\n",
       "      <td>0.016045</td>\n",
       "      <td>1.000000</td>\n",
       "      <td>0.432476</td>\n",
       "      <td>0.363607</td>\n",
       "      <td>0.008758</td>\n",
       "      <td>0.146483</td>\n",
       "      <td>0.018614</td>\n",
       "      <td>...</td>\n",
       "      <td>0.148954</td>\n",
       "      <td>0.178754</td>\n",
       "      <td>0.117860</td>\n",
       "      <td>0.131081</td>\n",
       "      <td>0.135782</td>\n",
       "      <td>0.270601</td>\n",
       "      <td>-0.020545</td>\n",
       "      <td>-0.150248</td>\n",
       "      <td>0.100973</td>\n",
       "      <td>0.319668</td>\n",
       "    </tr>\n",
       "    <tr>\n",
       "      <th>Dependents</th>\n",
       "      <td>-0.186895</td>\n",
       "      <td>0.007984</td>\n",
       "      <td>-0.004670</td>\n",
       "      <td>-0.228760</td>\n",
       "      <td>0.432476</td>\n",
       "      <td>1.000000</td>\n",
       "      <td>0.155731</td>\n",
       "      <td>0.000351</td>\n",
       "      <td>-0.029863</td>\n",
       "      <td>0.036289</td>\n",
       "      <td>...</td>\n",
       "      <td>0.087894</td>\n",
       "      <td>0.092262</td>\n",
       "      <td>0.133923</td>\n",
       "      <td>0.019513</td>\n",
       "      <td>0.007216</td>\n",
       "      <td>0.238750</td>\n",
       "      <td>-0.127157</td>\n",
       "      <td>-0.054087</td>\n",
       "      <td>-0.121741</td>\n",
       "      <td>0.072503</td>\n",
       "    </tr>\n",
       "    <tr>\n",
       "      <th>tenure</th>\n",
       "      <td>-0.395504</td>\n",
       "      <td>0.010838</td>\n",
       "      <td>0.028269</td>\n",
       "      <td>-0.001306</td>\n",
       "      <td>0.363607</td>\n",
       "      <td>0.155731</td>\n",
       "      <td>1.000000</td>\n",
       "      <td>0.006162</td>\n",
       "      <td>0.326869</td>\n",
       "      <td>0.004534</td>\n",
       "      <td>...</td>\n",
       "      <td>0.391147</td>\n",
       "      <td>0.378128</td>\n",
       "      <td>0.332865</td>\n",
       "      <td>0.295525</td>\n",
       "      <td>0.312017</td>\n",
       "      <td>0.670319</td>\n",
       "      <td>-0.017865</td>\n",
       "      <td>-0.367964</td>\n",
       "      <td>0.231504</td>\n",
       "      <td>0.868555</td>\n",
       "    </tr>\n",
       "    <tr>\n",
       "      <th>PhoneService</th>\n",
       "      <td>0.018495</td>\n",
       "      <td>-0.016289</td>\n",
       "      <td>0.000475</td>\n",
       "      <td>-0.000772</td>\n",
       "      <td>0.008758</td>\n",
       "      <td>0.000351</td>\n",
       "      <td>0.006162</td>\n",
       "      <td>1.000000</td>\n",
       "      <td>-0.007300</td>\n",
       "      <td>0.421836</td>\n",
       "      <td>...</td>\n",
       "      <td>0.007529</td>\n",
       "      <td>0.010720</td>\n",
       "      <td>0.000559</td>\n",
       "      <td>0.056953</td>\n",
       "      <td>0.038318</td>\n",
       "      <td>0.000919</td>\n",
       "      <td>0.037400</td>\n",
       "      <td>-0.017623</td>\n",
       "      <td>0.330782</td>\n",
       "      <td>0.118653</td>\n",
       "    </tr>\n",
       "    <tr>\n",
       "      <th>MultipleLines</th>\n",
       "      <td>0.048564</td>\n",
       "      <td>-0.005457</td>\n",
       "      <td>0.000822</td>\n",
       "      <td>0.140997</td>\n",
       "      <td>0.146483</td>\n",
       "      <td>-0.029863</td>\n",
       "      <td>0.326869</td>\n",
       "      <td>-0.007300</td>\n",
       "      <td>1.000000</td>\n",
       "      <td>-0.040261</td>\n",
       "      <td>...</td>\n",
       "      <td>0.119492</td>\n",
       "      <td>0.125236</td>\n",
       "      <td>0.006697</td>\n",
       "      <td>0.189107</td>\n",
       "      <td>0.206341</td>\n",
       "      <td>0.089478</td>\n",
       "      <td>0.166348</td>\n",
       "      <td>-0.163040</td>\n",
       "      <td>0.426573</td>\n",
       "      <td>0.423566</td>\n",
       "    </tr>\n",
       "    <tr>\n",
       "      <th>InternetService</th>\n",
       "      <td>-0.061079</td>\n",
       "      <td>-0.008031</td>\n",
       "      <td>-0.008404</td>\n",
       "      <td>-0.018939</td>\n",
       "      <td>0.018614</td>\n",
       "      <td>0.036289</td>\n",
       "      <td>0.004534</td>\n",
       "      <td>0.421836</td>\n",
       "      <td>-0.040261</td>\n",
       "      <td>1.000000</td>\n",
       "      <td>...</td>\n",
       "      <td>0.061286</td>\n",
       "      <td>0.079959</td>\n",
       "      <td>0.006471</td>\n",
       "      <td>0.139234</td>\n",
       "      <td>0.124218</td>\n",
       "      <td>0.086162</td>\n",
       "      <td>-0.075570</td>\n",
       "      <td>0.050920</td>\n",
       "      <td>-0.150818</td>\n",
       "      <td>-0.075162</td>\n",
       "    </tr>\n",
       "    <tr>\n",
       "      <th>OnlineSecurity</th>\n",
       "      <td>-0.325047</td>\n",
       "      <td>-0.007714</td>\n",
       "      <td>-0.039257</td>\n",
       "      <td>-0.120676</td>\n",
       "      <td>0.147846</td>\n",
       "      <td>0.139817</td>\n",
       "      <td>0.319231</td>\n",
       "      <td>-0.014203</td>\n",
       "      <td>-0.026091</td>\n",
       "      <td>-0.007308</td>\n",
       "      <td>...</td>\n",
       "      <td>0.167345</td>\n",
       "      <td>0.158693</td>\n",
       "      <td>0.291868</td>\n",
       "      <td>0.033975</td>\n",
       "      <td>0.058439</td>\n",
       "      <td>0.384044</td>\n",
       "      <td>-0.187683</td>\n",
       "      <td>-0.106670</td>\n",
       "      <td>-0.093631</td>\n",
       "      <td>0.244549</td>\n",
       "    </tr>\n",
       "    <tr>\n",
       "      <th>OnlineBackup</th>\n",
       "      <td>-0.210287</td>\n",
       "      <td>0.002448</td>\n",
       "      <td>-0.002769</td>\n",
       "      <td>-0.023102</td>\n",
       "      <td>0.148954</td>\n",
       "      <td>0.087894</td>\n",
       "      <td>0.391147</td>\n",
       "      <td>0.007529</td>\n",
       "      <td>0.119492</td>\n",
       "      <td>0.061286</td>\n",
       "      <td>...</td>\n",
       "      <td>1.000000</td>\n",
       "      <td>0.209922</td>\n",
       "      <td>0.191173</td>\n",
       "      <td>0.124251</td>\n",
       "      <td>0.125832</td>\n",
       "      <td>0.281186</td>\n",
       "      <td>-0.024119</td>\n",
       "      <td>-0.140069</td>\n",
       "      <td>0.101159</td>\n",
       "      <td>0.384387</td>\n",
       "    </tr>\n",
       "    <tr>\n",
       "      <th>DeviceProtection</th>\n",
       "      <td>-0.190528</td>\n",
       "      <td>-0.003105</td>\n",
       "      <td>0.010628</td>\n",
       "      <td>-0.031671</td>\n",
       "      <td>0.178754</td>\n",
       "      <td>0.092262</td>\n",
       "      <td>0.378128</td>\n",
       "      <td>0.010720</td>\n",
       "      <td>0.125236</td>\n",
       "      <td>0.079959</td>\n",
       "      <td>...</td>\n",
       "      <td>0.209922</td>\n",
       "      <td>1.000000</td>\n",
       "      <td>0.241718</td>\n",
       "      <td>0.265782</td>\n",
       "      <td>0.290012</td>\n",
       "      <td>0.333130</td>\n",
       "      <td>-0.048592</td>\n",
       "      <td>-0.134440</td>\n",
       "      <td>0.164150</td>\n",
       "      <td>0.393996</td>\n",
       "    </tr>\n",
       "    <tr>\n",
       "      <th>TechSupport</th>\n",
       "      <td>-0.325098</td>\n",
       "      <td>0.007069</td>\n",
       "      <td>-0.022206</td>\n",
       "      <td>-0.163180</td>\n",
       "      <td>0.117860</td>\n",
       "      <td>0.133923</td>\n",
       "      <td>0.332865</td>\n",
       "      <td>0.000559</td>\n",
       "      <td>0.006697</td>\n",
       "      <td>0.006471</td>\n",
       "      <td>...</td>\n",
       "      <td>0.191173</td>\n",
       "      <td>0.241718</td>\n",
       "      <td>1.000000</td>\n",
       "      <td>0.155822</td>\n",
       "      <td>0.160822</td>\n",
       "      <td>0.437082</td>\n",
       "      <td>-0.145481</td>\n",
       "      <td>-0.106984</td>\n",
       "      <td>-0.031002</td>\n",
       "      <td>0.285296</td>\n",
       "    </tr>\n",
       "    <tr>\n",
       "      <th>StreamingTV</th>\n",
       "      <td>-0.029235</td>\n",
       "      <td>-0.004645</td>\n",
       "      <td>-0.011907</td>\n",
       "      <td>0.036018</td>\n",
       "      <td>0.131081</td>\n",
       "      <td>0.019513</td>\n",
       "      <td>0.295525</td>\n",
       "      <td>0.056953</td>\n",
       "      <td>0.189107</td>\n",
       "      <td>0.139234</td>\n",
       "      <td>...</td>\n",
       "      <td>0.124251</td>\n",
       "      <td>0.265782</td>\n",
       "      <td>0.155822</td>\n",
       "      <td>1.000000</td>\n",
       "      <td>0.441098</td>\n",
       "      <td>0.194114</td>\n",
       "      <td>0.104983</td>\n",
       "      <td>-0.103878</td>\n",
       "      <td>0.375922</td>\n",
       "      <td>0.389782</td>\n",
       "    </tr>\n",
       "    <tr>\n",
       "      <th>StreamingMovies</th>\n",
       "      <td>-0.038387</td>\n",
       "      <td>-0.025362</td>\n",
       "      <td>-0.023442</td>\n",
       "      <td>0.049584</td>\n",
       "      <td>0.135782</td>\n",
       "      <td>0.007216</td>\n",
       "      <td>0.312017</td>\n",
       "      <td>0.038318</td>\n",
       "      <td>0.206341</td>\n",
       "      <td>0.124218</td>\n",
       "      <td>...</td>\n",
       "      <td>0.125832</td>\n",
       "      <td>0.290012</td>\n",
       "      <td>0.160822</td>\n",
       "      <td>0.441098</td>\n",
       "      <td>1.000000</td>\n",
       "      <td>0.214661</td>\n",
       "      <td>0.085476</td>\n",
       "      <td>-0.117400</td>\n",
       "      <td>0.366995</td>\n",
       "      <td>0.397299</td>\n",
       "    </tr>\n",
       "    <tr>\n",
       "      <th>Contract</th>\n",
       "      <td>-0.499351</td>\n",
       "      <td>0.009717</td>\n",
       "      <td>0.013634</td>\n",
       "      <td>-0.151086</td>\n",
       "      <td>0.270601</td>\n",
       "      <td>0.238750</td>\n",
       "      <td>0.670319</td>\n",
       "      <td>0.000919</td>\n",
       "      <td>0.089478</td>\n",
       "      <td>0.086162</td>\n",
       "      <td>...</td>\n",
       "      <td>0.281186</td>\n",
       "      <td>0.333130</td>\n",
       "      <td>0.437082</td>\n",
       "      <td>0.194114</td>\n",
       "      <td>0.214661</td>\n",
       "      <td>1.000000</td>\n",
       "      <td>-0.180885</td>\n",
       "      <td>-0.246901</td>\n",
       "      <td>-0.085667</td>\n",
       "      <td>0.480085</td>\n",
       "    </tr>\n",
       "    <tr>\n",
       "      <th>PaperlessBilling</th>\n",
       "      <td>0.226802</td>\n",
       "      <td>0.001225</td>\n",
       "      <td>-0.015923</td>\n",
       "      <td>0.145616</td>\n",
       "      <td>-0.020545</td>\n",
       "      <td>-0.127157</td>\n",
       "      <td>-0.017865</td>\n",
       "      <td>0.037400</td>\n",
       "      <td>0.166348</td>\n",
       "      <td>-0.075570</td>\n",
       "      <td>...</td>\n",
       "      <td>-0.024119</td>\n",
       "      <td>-0.048592</td>\n",
       "      <td>-0.145481</td>\n",
       "      <td>0.104983</td>\n",
       "      <td>0.085476</td>\n",
       "      <td>-0.180885</td>\n",
       "      <td>1.000000</td>\n",
       "      <td>-0.039319</td>\n",
       "      <td>0.345961</td>\n",
       "      <td>0.111573</td>\n",
       "    </tr>\n",
       "    <tr>\n",
       "      <th>PaymentMethod</th>\n",
       "      <td>0.141453</td>\n",
       "      <td>0.010791</td>\n",
       "      <td>0.009375</td>\n",
       "      <td>-0.014639</td>\n",
       "      <td>-0.150248</td>\n",
       "      <td>-0.054087</td>\n",
       "      <td>-0.367964</td>\n",
       "      <td>-0.017623</td>\n",
       "      <td>-0.163040</td>\n",
       "      <td>0.050920</td>\n",
       "      <td>...</td>\n",
       "      <td>-0.140069</td>\n",
       "      <td>-0.134440</td>\n",
       "      <td>-0.106984</td>\n",
       "      <td>-0.103878</td>\n",
       "      <td>-0.117400</td>\n",
       "      <td>-0.246901</td>\n",
       "      <td>-0.039319</td>\n",
       "      <td>1.000000</td>\n",
       "      <td>-0.180824</td>\n",
       "      <td>-0.335556</td>\n",
       "    </tr>\n",
       "    <tr>\n",
       "      <th>MonthlyCharges</th>\n",
       "      <td>0.237520</td>\n",
       "      <td>-0.013025</td>\n",
       "      <td>-0.022747</td>\n",
       "      <td>0.192976</td>\n",
       "      <td>0.100973</td>\n",
       "      <td>-0.121741</td>\n",
       "      <td>0.231504</td>\n",
       "      <td>0.330782</td>\n",
       "      <td>0.426573</td>\n",
       "      <td>-0.150818</td>\n",
       "      <td>...</td>\n",
       "      <td>0.101159</td>\n",
       "      <td>0.164150</td>\n",
       "      <td>-0.031002</td>\n",
       "      <td>0.375922</td>\n",
       "      <td>0.366995</td>\n",
       "      <td>-0.085667</td>\n",
       "      <td>0.345961</td>\n",
       "      <td>-0.180824</td>\n",
       "      <td>1.000000</td>\n",
       "      <td>0.570207</td>\n",
       "    </tr>\n",
       "    <tr>\n",
       "      <th>TotalCharges</th>\n",
       "      <td>-0.224196</td>\n",
       "      <td>0.008229</td>\n",
       "      <td>0.022555</td>\n",
       "      <td>0.064750</td>\n",
       "      <td>0.319668</td>\n",
       "      <td>0.072503</td>\n",
       "      <td>0.868555</td>\n",
       "      <td>0.118653</td>\n",
       "      <td>0.423566</td>\n",
       "      <td>-0.075162</td>\n",
       "      <td>...</td>\n",
       "      <td>0.384387</td>\n",
       "      <td>0.393996</td>\n",
       "      <td>0.285296</td>\n",
       "      <td>0.389782</td>\n",
       "      <td>0.397299</td>\n",
       "      <td>0.480085</td>\n",
       "      <td>0.111573</td>\n",
       "      <td>-0.335556</td>\n",
       "      <td>0.570207</td>\n",
       "      <td>1.000000</td>\n",
       "    </tr>\n",
       "  </tbody>\n",
       "</table>\n",
       "<p>21 rows × 21 columns</p>\n",
       "</div>"
      ],
      "text/plain": [
       "                         y        ID    gender  SeniorCitizen   Partner  \\\n",
       "y                 1.000000  0.017830 -0.007496       0.154493 -0.155296   \n",
       "ID                0.017830  1.000000  0.002025       0.026985  0.013168   \n",
       "gender           -0.007496  0.002025  1.000000       0.011299  0.013291   \n",
       "SeniorCitizen     0.154493  0.026985  0.011299       1.000000  0.016045   \n",
       "Partner          -0.155296  0.013168  0.013291       0.016045  1.000000   \n",
       "Dependents       -0.186895  0.007984 -0.004670      -0.228760  0.432476   \n",
       "tenure           -0.395504  0.010838  0.028269      -0.001306  0.363607   \n",
       "PhoneService      0.018495 -0.016289  0.000475      -0.000772  0.008758   \n",
       "MultipleLines     0.048564 -0.005457  0.000822       0.140997  0.146483   \n",
       "InternetService  -0.061079 -0.008031 -0.008404      -0.018939  0.018614   \n",
       "OnlineSecurity   -0.325047 -0.007714 -0.039257      -0.120676  0.147846   \n",
       "OnlineBackup     -0.210287  0.002448 -0.002769      -0.023102  0.148954   \n",
       "DeviceProtection -0.190528 -0.003105  0.010628      -0.031671  0.178754   \n",
       "TechSupport      -0.325098  0.007069 -0.022206      -0.163180  0.117860   \n",
       "StreamingTV      -0.029235 -0.004645 -0.011907       0.036018  0.131081   \n",
       "StreamingMovies  -0.038387 -0.025362 -0.023442       0.049584  0.135782   \n",
       "Contract         -0.499351  0.009717  0.013634      -0.151086  0.270601   \n",
       "PaperlessBilling  0.226802  0.001225 -0.015923       0.145616 -0.020545   \n",
       "PaymentMethod     0.141453  0.010791  0.009375      -0.014639 -0.150248   \n",
       "MonthlyCharges    0.237520 -0.013025 -0.022747       0.192976  0.100973   \n",
       "TotalCharges     -0.224196  0.008229  0.022555       0.064750  0.319668   \n",
       "\n",
       "                  Dependents    tenure  PhoneService  MultipleLines  \\\n",
       "y                  -0.186895 -0.395504      0.018495       0.048564   \n",
       "ID                  0.007984  0.010838     -0.016289      -0.005457   \n",
       "gender             -0.004670  0.028269      0.000475       0.000822   \n",
       "SeniorCitizen      -0.228760 -0.001306     -0.000772       0.140997   \n",
       "Partner             0.432476  0.363607      0.008758       0.146483   \n",
       "Dependents          1.000000  0.155731      0.000351      -0.029863   \n",
       "tenure              0.155731  1.000000      0.006162       0.326869   \n",
       "PhoneService        0.000351  0.006162      1.000000      -0.007300   \n",
       "MultipleLines      -0.029863  0.326869     -0.007300       1.000000   \n",
       "InternetService     0.036289  0.004534      0.421836      -0.040261   \n",
       "OnlineSecurity      0.139817  0.319231     -0.014203      -0.026091   \n",
       "OnlineBackup        0.087894  0.391147      0.007529       0.119492   \n",
       "DeviceProtection    0.092262  0.378128      0.010720       0.125236   \n",
       "TechSupport         0.133923  0.332865      0.000559       0.006697   \n",
       "StreamingTV         0.019513  0.295525      0.056953       0.189107   \n",
       "StreamingMovies     0.007216  0.312017      0.038318       0.206341   \n",
       "Contract            0.238750  0.670319      0.000919       0.089478   \n",
       "PaperlessBilling   -0.127157 -0.017865      0.037400       0.166348   \n",
       "PaymentMethod      -0.054087 -0.367964     -0.017623      -0.163040   \n",
       "MonthlyCharges     -0.121741  0.231504      0.330782       0.426573   \n",
       "TotalCharges        0.072503  0.868555      0.118653       0.423566   \n",
       "\n",
       "                  InternetService  ...  OnlineBackup  DeviceProtection  \\\n",
       "y                       -0.061079  ...     -0.210287         -0.190528   \n",
       "ID                      -0.008031  ...      0.002448         -0.003105   \n",
       "gender                  -0.008404  ...     -0.002769          0.010628   \n",
       "SeniorCitizen           -0.018939  ...     -0.023102         -0.031671   \n",
       "Partner                  0.018614  ...      0.148954          0.178754   \n",
       "Dependents               0.036289  ...      0.087894          0.092262   \n",
       "tenure                   0.004534  ...      0.391147          0.378128   \n",
       "PhoneService             0.421836  ...      0.007529          0.010720   \n",
       "MultipleLines           -0.040261  ...      0.119492          0.125236   \n",
       "InternetService          1.000000  ...      0.061286          0.079959   \n",
       "OnlineSecurity          -0.007308  ...      0.167345          0.158693   \n",
       "OnlineBackup             0.061286  ...      1.000000          0.209922   \n",
       "DeviceProtection         0.079959  ...      0.209922          1.000000   \n",
       "TechSupport              0.006471  ...      0.191173          0.241718   \n",
       "StreamingTV              0.139234  ...      0.124251          0.265782   \n",
       "StreamingMovies          0.124218  ...      0.125832          0.290012   \n",
       "Contract                 0.086162  ...      0.281186          0.333130   \n",
       "PaperlessBilling        -0.075570  ...     -0.024119         -0.048592   \n",
       "PaymentMethod            0.050920  ...     -0.140069         -0.134440   \n",
       "MonthlyCharges          -0.150818  ...      0.101159          0.164150   \n",
       "TotalCharges            -0.075162  ...      0.384387          0.393996   \n",
       "\n",
       "                  TechSupport  StreamingTV  StreamingMovies  Contract  \\\n",
       "y                   -0.325098    -0.029235        -0.038387 -0.499351   \n",
       "ID                   0.007069    -0.004645        -0.025362  0.009717   \n",
       "gender              -0.022206    -0.011907        -0.023442  0.013634   \n",
       "SeniorCitizen       -0.163180     0.036018         0.049584 -0.151086   \n",
       "Partner              0.117860     0.131081         0.135782  0.270601   \n",
       "Dependents           0.133923     0.019513         0.007216  0.238750   \n",
       "tenure               0.332865     0.295525         0.312017  0.670319   \n",
       "PhoneService         0.000559     0.056953         0.038318  0.000919   \n",
       "MultipleLines        0.006697     0.189107         0.206341  0.089478   \n",
       "InternetService      0.006471     0.139234         0.124218  0.086162   \n",
       "OnlineSecurity       0.291868     0.033975         0.058439  0.384044   \n",
       "OnlineBackup         0.191173     0.124251         0.125832  0.281186   \n",
       "DeviceProtection     0.241718     0.265782         0.290012  0.333130   \n",
       "TechSupport          1.000000     0.155822         0.160822  0.437082   \n",
       "StreamingTV          0.155822     1.000000         0.441098  0.194114   \n",
       "StreamingMovies      0.160822     0.441098         1.000000  0.214661   \n",
       "Contract             0.437082     0.194114         0.214661  1.000000   \n",
       "PaperlessBilling    -0.145481     0.104983         0.085476 -0.180885   \n",
       "PaymentMethod       -0.106984    -0.103878        -0.117400 -0.246901   \n",
       "MonthlyCharges      -0.031002     0.375922         0.366995 -0.085667   \n",
       "TotalCharges         0.285296     0.389782         0.397299  0.480085   \n",
       "\n",
       "                  PaperlessBilling  PaymentMethod  MonthlyCharges  \\\n",
       "y                         0.226802       0.141453        0.237520   \n",
       "ID                        0.001225       0.010791       -0.013025   \n",
       "gender                   -0.015923       0.009375       -0.022747   \n",
       "SeniorCitizen             0.145616      -0.014639        0.192976   \n",
       "Partner                  -0.020545      -0.150248        0.100973   \n",
       "Dependents               -0.127157      -0.054087       -0.121741   \n",
       "tenure                   -0.017865      -0.367964        0.231504   \n",
       "PhoneService              0.037400      -0.017623        0.330782   \n",
       "MultipleLines             0.166348      -0.163040        0.426573   \n",
       "InternetService          -0.075570       0.050920       -0.150818   \n",
       "OnlineSecurity           -0.187683      -0.106670       -0.093631   \n",
       "OnlineBackup             -0.024119      -0.140069        0.101159   \n",
       "DeviceProtection         -0.048592      -0.134440        0.164150   \n",
       "TechSupport              -0.145481      -0.106984       -0.031002   \n",
       "StreamingTV               0.104983      -0.103878        0.375922   \n",
       "StreamingMovies           0.085476      -0.117400        0.366995   \n",
       "Contract                 -0.180885      -0.246901       -0.085667   \n",
       "PaperlessBilling          1.000000      -0.039319        0.345961   \n",
       "PaymentMethod            -0.039319       1.000000       -0.180824   \n",
       "MonthlyCharges            0.345961      -0.180824        1.000000   \n",
       "TotalCharges              0.111573      -0.335556        0.570207   \n",
       "\n",
       "                  TotalCharges  \n",
       "y                    -0.224196  \n",
       "ID                    0.008229  \n",
       "gender                0.022555  \n",
       "SeniorCitizen         0.064750  \n",
       "Partner               0.319668  \n",
       "Dependents            0.072503  \n",
       "tenure                0.868555  \n",
       "PhoneService          0.118653  \n",
       "MultipleLines         0.423566  \n",
       "InternetService      -0.075162  \n",
       "OnlineSecurity        0.244549  \n",
       "OnlineBackup          0.384387  \n",
       "DeviceProtection      0.393996  \n",
       "TechSupport           0.285296  \n",
       "StreamingTV           0.389782  \n",
       "StreamingMovies       0.397299  \n",
       "Contract              0.480085  \n",
       "PaperlessBilling      0.111573  \n",
       "PaymentMethod        -0.335556  \n",
       "MonthlyCharges        0.570207  \n",
       "TotalCharges          1.000000  \n",
       "\n",
       "[21 rows x 21 columns]"
      ]
     },
     "execution_count": 20,
     "metadata": {},
     "output_type": "execute_result"
    }
   ],
   "source": [
    "Xcorr=pd.concat([y,X])\n",
    "Xcorr=X\n",
    "Xcorr.insert(0,\"y\",y)\n",
    "CorMat=Xcorr.corr()\n",
    "CorMat"
   ]
  },
  {
   "cell_type": "markdown",
   "id": "6667efc2",
   "metadata": {
    "papermill": {
     "duration": 0.014798,
     "end_time": "2023-10-13T22:22:40.628489",
     "exception": false,
     "start_time": "2023-10-13T22:22:40.613691",
     "status": "completed"
    },
    "tags": []
   },
   "source": [
    "### Looking at the y column correlation, gender is very low correlation, and PhoneService, MultipleLines, InternetService, StreamingTV, and StreamingMovies are low as well."
   ]
  },
  {
   "cell_type": "code",
   "execution_count": 21,
   "id": "fd8e65f8",
   "metadata": {
    "execution": {
     "iopub.execute_input": "2023-10-13T22:22:40.660566Z",
     "iopub.status.busy": "2023-10-13T22:22:40.659663Z",
     "iopub.status.idle": "2023-10-13T22:22:40.669949Z",
     "shell.execute_reply": "2023-10-13T22:22:40.669273Z"
    },
    "papermill": {
     "duration": 0.028354,
     "end_time": "2023-10-13T22:22:40.671870",
     "exception": false,
     "start_time": "2023-10-13T22:22:40.643516",
     "status": "completed"
    },
    "tags": []
   },
   "outputs": [],
   "source": [
    "X.drop(['y'],inplace=True,axis=1)\n",
    "X.drop(['gender'],inplace=True,axis=1)\n",
    "\n",
    "test.drop(['gender'],inplace=True,axis=1)"
   ]
  },
  {
   "cell_type": "markdown",
   "id": "d6a085fc",
   "metadata": {
    "papermill": {
     "duration": 0.014854,
     "end_time": "2023-10-13T22:22:40.702222",
     "exception": false,
     "start_time": "2023-10-13T22:22:40.687368",
     "status": "completed"
    },
    "tags": []
   },
   "source": [
    "### Some experimentation was done with dropping columns, in the end only ID, customerID and gender need to be dropped."
   ]
  },
  {
   "cell_type": "code",
   "execution_count": 22,
   "id": "5741433f",
   "metadata": {
    "execution": {
     "iopub.execute_input": "2023-10-13T22:22:40.734922Z",
     "iopub.status.busy": "2023-10-13T22:22:40.734301Z",
     "iopub.status.idle": "2023-10-13T22:22:40.746059Z",
     "shell.execute_reply": "2023-10-13T22:22:40.745353Z"
    },
    "papermill": {
     "duration": 0.030476,
     "end_time": "2023-10-13T22:22:40.747964",
     "exception": false,
     "start_time": "2023-10-13T22:22:40.717488",
     "status": "completed"
    },
    "tags": []
   },
   "outputs": [],
   "source": [
    "#split training dataset into labeled test and training data\n",
    "X_train,X_test,y_train,y_test=train_test_split(X,y,test_size=0.3,random_state=1,stratify=y)"
   ]
  },
  {
   "cell_type": "code",
   "execution_count": 23,
   "id": "9e5f3a29",
   "metadata": {
    "execution": {
     "iopub.execute_input": "2023-10-13T22:22:40.781218Z",
     "iopub.status.busy": "2023-10-13T22:22:40.780598Z",
     "iopub.status.idle": "2023-10-13T22:22:40.796226Z",
     "shell.execute_reply": "2023-10-13T22:22:40.795441Z"
    },
    "papermill": {
     "duration": 0.034705,
     "end_time": "2023-10-13T22:22:40.798230",
     "exception": false,
     "start_time": "2023-10-13T22:22:40.763525",
     "status": "completed"
    },
    "tags": []
   },
   "outputs": [],
   "source": [
    "sc=StandardScaler()\n",
    "sc.fit(X_train)\n",
    "\n",
    "#scale the split train/test sets\n",
    "XTrainScaled=sc.transform(X_train)\n",
    "XTestScaled=sc.transform(X_test)\n",
    "\n",
    "#scale the test dataset\n",
    "testscaled=sc.transform(test)"
   ]
  },
  {
   "cell_type": "markdown",
   "id": "223a8157",
   "metadata": {
    "papermill": {
     "duration": 0.015403,
     "end_time": "2023-10-13T22:22:40.829586",
     "exception": false,
     "start_time": "2023-10-13T22:22:40.814183",
     "status": "completed"
    },
    "tags": []
   },
   "source": [
    "### Next, principal component analysis will be checked.   If it works, it will provide a dimensionality reduction which may allow better performance."
   ]
  },
  {
   "cell_type": "code",
   "execution_count": 24,
   "id": "0b3822d5",
   "metadata": {
    "execution": {
     "iopub.execute_input": "2023-10-13T22:22:40.862734Z",
     "iopub.status.busy": "2023-10-13T22:22:40.862061Z",
     "iopub.status.idle": "2023-10-13T22:22:40.889364Z",
     "shell.execute_reply": "2023-10-13T22:22:40.888046Z"
    },
    "papermill": {
     "duration": 0.047731,
     "end_time": "2023-10-13T22:22:40.892864",
     "exception": false,
     "start_time": "2023-10-13T22:22:40.845133",
     "status": "completed"
    },
    "tags": []
   },
   "outputs": [],
   "source": [
    "from sklearn.decomposition import PCA\n",
    "\n",
    "pca = PCA()\n",
    "X_train_pca = pca.fit_transform(X_train)\n"
   ]
  },
  {
   "cell_type": "code",
   "execution_count": 25,
   "id": "72980b0f",
   "metadata": {
    "execution": {
     "iopub.execute_input": "2023-10-13T22:22:40.953821Z",
     "iopub.status.busy": "2023-10-13T22:22:40.953371Z",
     "iopub.status.idle": "2023-10-13T22:22:41.220890Z",
     "shell.execute_reply": "2023-10-13T22:22:41.220200Z"
    },
    "papermill": {
     "duration": 0.299953,
     "end_time": "2023-10-13T22:22:41.222646",
     "exception": false,
     "start_time": "2023-10-13T22:22:40.922693",
     "status": "completed"
    },
    "tags": []
   },
   "outputs": [
    {
     "data": {
      "image/png": "[encoded data removed]",
      "text/plain": [
       "<Figure size 640x480 with 1 Axes>"
      ]
     },
     "metadata": {},
     "output_type": "display_data"
    }
   ],
   "source": [
    "import matplotlib.pyplot as plt\n",
    "\n",
    "plt.bar(range(1, 20), pca.explained_variance_ratio_, align='center')\n",
    "plt.step(range(1, 20), np.cumsum(pca.explained_variance_ratio_), where='mid')\n",
    "plt.ylabel('Explained variance ratio')\n",
    "plt.xlabel('Principal components')\n",
    "\n",
    "plt.show()"
   ]
  },
  {
   "cell_type": "markdown",
   "id": "80581856",
   "metadata": {
    "papermill": {
     "duration": 0.015257,
     "end_time": "2023-10-13T22:22:41.253609",
     "exception": false,
     "start_time": "2023-10-13T22:22:41.238352",
     "status": "completed"
    },
    "tags": []
   },
   "source": [
    "### It looks like the only two components explain all of the variance. This means that instead of 19 features, 2 can be used with no loss of data. Additionally, they are balanced.   This looks like a promising way to go for getting the highest accuracy possible."
   ]
  },
  {
   "cell_type": "code",
   "execution_count": 26,
   "id": "aba8905c",
   "metadata": {
    "execution": {
     "iopub.execute_input": "2023-10-13T22:22:41.286484Z",
     "iopub.status.busy": "2023-10-13T22:22:41.285872Z",
     "iopub.status.idle": "2023-10-13T22:22:41.326565Z",
     "shell.execute_reply": "2023-10-13T22:22:41.325335Z"
    },
    "papermill": {
     "duration": 0.060609,
     "end_time": "2023-10-13T22:22:41.329671",
     "exception": false,
     "start_time": "2023-10-13T22:22:41.269062",
     "status": "completed"
    },
    "tags": []
   },
   "outputs": [],
   "source": [
    "pca = PCA(n_components=2)\n",
    "X_train_pca = pca.fit_transform(X_train)\n",
    "X_test_pca = pca.transform(X_test)"
   ]
  },
  {
   "cell_type": "code",
   "execution_count": 27,
   "id": "2c3b3fbd",
   "metadata": {
    "execution": {
     "iopub.execute_input": "2023-10-13T22:22:41.441335Z",
     "iopub.status.busy": "2023-10-13T22:22:41.440972Z",
     "iopub.status.idle": "2023-10-13T22:22:41.581226Z",
     "shell.execute_reply": "2023-10-13T22:22:41.579680Z"
    },
    "papermill": {
     "duration": 0.200665,
     "end_time": "2023-10-13T22:22:41.583980",
     "exception": false,
     "start_time": "2023-10-13T22:22:41.383315",
     "status": "completed"
    },
    "tags": []
   },
   "outputs": [
    {
     "name": "stdout",
     "output_type": "stream",
     "text": [
      "Accuracy:0.6101637107776262\n",
      "F1: 0.5594251780592088\n"
     ]
    },
    {
     "name": "stderr",
     "output_type": "stream",
     "text": [
      "/opt/conda/lib/python3.10/site-packages/sklearn/base.py:439: UserWarning: X does not have valid feature names, but PCA was fitted with feature names\n",
      "  warnings.warn(\n"
     ]
    }
   ],
   "source": [
    "from sklearn.linear_model import LogisticRegression\n",
    "\n",
    "pca = PCA(n_components=2)\n",
    "X_train_pca = pca.fit_transform(X_train)\n",
    "X_test_pca = pca.transform(X_test)\n",
    "testscaled_pca=pca.transform(testscaled)\n",
    "\n",
    "LogRes = LogisticRegression(multi_class='ovr', random_state=1, solver='lbfgs')\n",
    "LogRes = LogRes.fit(X_train_pca, y_train)\n",
    "\n",
    "\n",
    "#Predict then test accuracy of predictions of logistic regression model using split test set\n",
    "y_pred=LogRes.predict(X_test_pca)\n",
    "print(f\"Accuracy:{accuracy_score(y_test,y_pred)}\")\n",
    "print(f\"F1: {f1_score(y_test,y_pred, average='macro')}\")\n",
    "\n",
    "#Predict the target column using the scaled test set\n",
    "pred=LogRes.predict(testscaled_pca)\n",
    "\n",
    "#Output the predictions into the format required (columns: ID #0) into CSV format\n",
    "out=pd.DataFrame({'ID':test.ID,'Churn':pred})\n",
    "out.to_csv('LogResSubmission.csv',index=False)"
   ]
  },
  {
   "cell_type": "markdown",
   "id": "cc9e764a",
   "metadata": {
    "papermill": {
     "duration": 0.030292,
     "end_time": "2023-10-13T22:22:41.646348",
     "exception": false,
     "start_time": "2023-10-13T22:22:41.616056",
     "status": "completed"
    },
    "tags": []
   },
   "source": [
    "### LogisticRegression had a poor performance with PCA, even lower than below without it.  where it obtained a .755 F1 score. This may be able to be adjusted using hyperparameter tuning"
   ]
  },
  {
   "cell_type": "code",
   "execution_count": 28,
   "id": "e95aad9e",
   "metadata": {
    "execution": {
     "iopub.execute_input": "2023-10-13T22:22:41.690739Z",
     "iopub.status.busy": "2023-10-13T22:22:41.690403Z",
     "iopub.status.idle": "2023-10-13T22:22:45.301289Z",
     "shell.execute_reply": "2023-10-13T22:22:45.300462Z"
    },
    "papermill": {
     "duration": 3.630354,
     "end_time": "2023-10-13T22:22:45.303616",
     "exception": false,
     "start_time": "2023-10-13T22:22:41.673262",
     "status": "completed"
    },
    "tags": []
   },
   "outputs": [
    {
     "name": "stdout",
     "output_type": "stream",
     "text": [
      "Accuracy:0.9607776261937244\n",
      "F1: 0.9602588232825919\n"
     ]
    }
   ],
   "source": [
    "from sklearn.svm import SVC\n",
    "\n",
    "pca = PCA(n_components=2)\n",
    "X_train_pca = pca.fit_transform(X_train)\n",
    "X_test_pca = pca.transform(X_test)\n",
    "testscaled_pca=pca.transform(test)\n",
    "\n",
    "\n",
    "svm=SVC(kernel='rbf',C=1,gamma='auto',random_state=1)\n",
    "svm.fit(X_train_pca, y_train)\n",
    "\n",
    "\n",
    "#Predict then test accuracy of predictions of the support vector machine model using split test set\n",
    "y_pred=svm.predict(X_test_pca)\n",
    "print(f\"Accuracy:{accuracy_score(y_test,y_pred)}\")\n",
    "print(f\"F1: {f1_score(y_test,y_pred, average='macro')}\")\n",
    "\n",
    "#Predict the target column using the scaled test set\n",
    "pred=svm.predict(testscaled_pca)\n",
    "\n",
    "#Output the predictions into the format required (columns: ID #0) into CSV format\n",
    "out=pd.DataFrame({'ID':test.ID,'Churn':pred})\n",
    "out.to_csv('SVMSubmissionPCA.csv',index=False)"
   ]
  },
  {
   "cell_type": "code",
   "execution_count": 29,
   "id": "92d274fb",
   "metadata": {
    "execution": {
     "iopub.execute_input": "2023-10-13T22:22:45.338354Z",
     "iopub.status.busy": "2023-10-13T22:22:45.337631Z",
     "iopub.status.idle": "2023-10-13T22:22:46.585419Z",
     "shell.execute_reply": "2023-10-13T22:22:46.584178Z"
    },
    "papermill": {
     "duration": 1.267338,
     "end_time": "2023-10-13T22:22:46.587316",
     "exception": false,
     "start_time": "2023-10-13T22:22:45.319978",
     "status": "completed"
    },
    "tags": []
   },
   "outputs": [
    {
     "name": "stdout",
     "output_type": "stream",
     "text": [
      "Accuracy:0.8414051841746248\n",
      "F1: 0.8288882404435367\n"
     ]
    }
   ],
   "source": [
    "from sklearn.ensemble import RandomForestClassifier\n",
    "\n",
    "pca = PCA(n_components=2)\n",
    "X_train_pca = pca.fit_transform(X_train)\n",
    "X_test_pca = pca.transform(X_test)\n",
    "testscaled_pca=pca.transform(test)\n",
    "\n",
    "\n",
    "#Create a random forest instance\n",
    "RandomForest=RandomForestClassifier(n_estimators=128,random_state=1,n_jobs=2,max_features='sqrt',max_depth=16384)\n",
    "\n",
    "#Fit random forest model\n",
    "RandomForest.fit(X_train_pca,y_train)\n",
    "\n",
    "#Predict then test accuracy of predictions of logistic regression model using split test set\n",
    "y_pred=RandomForest.predict(X_test_pca)\n",
    "print(f\"Accuracy:{accuracy_score(y_test,y_pred)}\")\n",
    "print(f\"F1: {f1_score(y_test,y_pred, average='macro')}\")\n",
    "\n",
    "#Predict the target column using the scaled test set\n",
    "pred=RandomForest.predict(testscaled_pca)\n",
    "\n",
    "#Output the predictions into the format required (columns: ID #0) into CSV format\n",
    "out=pd.DataFrame({'ID':test.ID,'Churn':pred})\n",
    "out.to_csv('RandomForestSubmissionPCA.csv',index=False)"
   ]
  },
  {
   "cell_type": "markdown",
   "id": "f832a7bd",
   "metadata": {
    "papermill": {
     "duration": 0.015624,
     "end_time": "2023-10-13T22:22:46.619257",
     "exception": false,
     "start_time": "2023-10-13T22:22:46.603633",
     "status": "completed"
    },
    "tags": []
   },
   "source": [
    "### SVM provided an excellent F1 score of .9602. This will likely be the model selected, assuming it performs this well on the submission."
   ]
  },
  {
   "cell_type": "code",
   "execution_count": 30,
   "id": "b5895616",
   "metadata": {
    "execution": {
     "iopub.execute_input": "2023-10-13T22:22:46.652579Z",
     "iopub.status.busy": "2023-10-13T22:22:46.651805Z",
     "iopub.status.idle": "2023-10-13T22:22:46.784202Z",
     "shell.execute_reply": "2023-10-13T22:22:46.782847Z"
    },
    "papermill": {
     "duration": 0.152209,
     "end_time": "2023-10-13T22:22:46.787177",
     "exception": false,
     "start_time": "2023-10-13T22:22:46.634968",
     "status": "completed"
    },
    "tags": []
   },
   "outputs": [
    {
     "name": "stdout",
     "output_type": "stream",
     "text": [
      "Accuracy:0.8502728512960437\n",
      "F1: 0.8391503918368275\n"
     ]
    },
    {
     "name": "stderr",
     "output_type": "stream",
     "text": [
      "/opt/conda/lib/python3.10/site-packages/sklearn/base.py:439: UserWarning: X does not have valid feature names, but PCA was fitted with feature names\n",
      "  warnings.warn(\n"
     ]
    }
   ],
   "source": [
    "from sklearn.tree import DecisionTreeClassifier\n",
    "\n",
    "pca = PCA(n_components=2)\n",
    "X_train_pca = pca.fit_transform(X_train)\n",
    "X_test_pca = pca.transform(X_test)\n",
    "testscaled_pca=pca.transform(testscaled)\n",
    "\n",
    "\n",
    "#Create a decision tree classifier instance\n",
    "Tree=DecisionTreeClassifier(criterion='gini',max_depth=160,random_state=1)\n",
    "\n",
    "#Create a decision tree classifier instance\n",
    "Tree.fit(X_train_pca, y_train)\n",
    "\n",
    "#Predict then test accuracy of predictions of logistic regression model using split test set\n",
    "y_pred=Tree.predict(X_test_pca)\n",
    "print(f\"Accuracy:{accuracy_score(y_test,y_pred)}\")\n",
    "print(f\"F1: {f1_score(y_test,y_pred, average='macro')}\")\n",
    "\n",
    "#Predict the target column using the scaled test set\n",
    "pred=Tree.predict(testscaled_pca)\n",
    "\n",
    "#Output the predictions into the format required (columns: ID #0) into CSV format\n",
    "out=pd.DataFrame({'ID':test.ID,'Churn':pred})\n",
    "out.to_csv('TreeSubmission.csv',index=False)"
   ]
  },
  {
   "cell_type": "code",
   "execution_count": 31,
   "id": "ac9c6611",
   "metadata": {
    "execution": {
     "iopub.execute_input": "2023-10-13T22:22:46.829421Z",
     "iopub.status.busy": "2023-10-13T22:22:46.828738Z",
     "iopub.status.idle": "2023-10-13T22:22:47.168513Z",
     "shell.execute_reply": "2023-10-13T22:22:47.167410Z"
    },
    "papermill": {
     "duration": 0.360213,
     "end_time": "2023-10-13T22:22:47.170737",
     "exception": false,
     "start_time": "2023-10-13T22:22:46.810524",
     "status": "completed"
    },
    "tags": []
   },
   "outputs": [
    {
     "name": "stderr",
     "output_type": "stream",
     "text": [
      "/opt/conda/lib/python3.10/site-packages/sklearn/base.py:439: UserWarning: X does not have valid feature names, but PCA was fitted with feature names\n",
      "  warnings.warn(\n"
     ]
    },
    {
     "name": "stdout",
     "output_type": "stream",
     "text": [
      "Accuracy:0.7363574351978172\n",
      "F1: 0.7110956304927957\n"
     ]
    }
   ],
   "source": [
    "from sklearn.neighbors import KNeighborsClassifier\n",
    "\n",
    "pca = PCA(n_components=2)\n",
    "X_train_pca = pca.fit_transform(X_train)\n",
    "X_test_pca = pca.transform(X_test)\n",
    "testscaled_pca=pca.transform(testscaled)\n",
    "\n",
    "#Create a K nearest neighbors instance\n",
    "knn=KNeighborsClassifier(n_neighbors=3,p=1,metric='minkowski')\n",
    "\n",
    "#Fit K nearest neighbors model\n",
    "knn.fit(X_train_pca,y_train)\n",
    "\n",
    "#Predict then test accuracy of predictions of logistic regression model using split test set\n",
    "y_pred=knn.predict(X_test_pca)\n",
    "print(f\"Accuracy:{accuracy_score(y_test,y_pred)}\")\n",
    "print(f\"F1: {f1_score(y_test,y_pred, average='macro')}\")\n",
    "\n",
    "#Predict the target column using the scaled test set\n",
    "pred=knn.predict(testscaled_pca)\n",
    "\n",
    "#Output the predictions into the format required (columns: ID #0) into CSV format\n",
    "out=pd.DataFrame({'ID':test.ID,'Churn':pred})\n",
    "out.to_csv('KNNSubmission.csv',index=False)"
   ]
  },
  {
   "cell_type": "markdown",
   "id": "aa16ce03",
   "metadata": {
    "papermill": {
     "duration": 0.016359,
     "end_time": "2023-10-13T22:22:47.204422",
     "exception": false,
     "start_time": "2023-10-13T22:22:47.188063",
     "status": "completed"
    },
    "tags": []
   },
   "source": [
    "#### The principal component analysis method for this dataset appears to work very well, with the SVM model showing an F1 accuracy of .96. However, on submission it scored only a .5 and the random forest provided similar results at a .55322 This likely indicates an overfit condition and PCA will not be used in the final model. Instead, the models will be trained with the core data."
   ]
  },
  {
   "cell_type": "code",
   "execution_count": 32,
   "id": "7b14935e",
   "metadata": {
    "execution": {
     "iopub.execute_input": "2023-10-13T22:22:47.239323Z",
     "iopub.status.busy": "2023-10-13T22:22:47.238953Z",
     "iopub.status.idle": "2023-10-13T22:22:47.270113Z",
     "shell.execute_reply": "2023-10-13T22:22:47.269082Z"
    },
    "papermill": {
     "duration": 0.051621,
     "end_time": "2023-10-13T22:22:47.272858",
     "exception": false,
     "start_time": "2023-10-13T22:22:47.221237",
     "status": "completed"
    },
    "tags": []
   },
   "outputs": [
    {
     "name": "stdout",
     "output_type": "stream",
     "text": [
      "Perceptron Accuracy:0.5982264665757162\n",
      "F1: 0.5951400337213729\n"
     ]
    }
   ],
   "source": [
    "from sklearn.linear_model import Perceptron\n",
    "\n",
    "#create a perceptron instance\n",
    "Perceptron=Perceptron(eta0=.01,random_state=1)\n",
    "\n",
    "#fit scaled training data\n",
    "Perceptron.fit(XTrainScaled,y_train)\n",
    "\n",
    "#predict with scaled test data\n",
    "y_pred=Perceptron.predict(XTestScaled)\n",
    "\n",
    "#check accuracy of model\n",
    "print(f\"Perceptron Accuracy:{accuracy_score(y_test,y_pred)}\")\n",
    "print(f\"F1: {f1_score(y_test,y_pred, average='macro')}\")\n",
    "\n",
    "#Predict the target column using the scaled test set\n",
    "pred=Perceptron.predict(testscaled)\n",
    "\n",
    "#Output the predictions into the format required (columns: ID #0) into CSV format\n",
    "out=pd.DataFrame({'ID':test.ID,'Churn':pred})\n",
    "out.to_csv('PerceptronSubmission.csv',index=False)"
   ]
  },
  {
   "cell_type": "code",
   "execution_count": 33,
   "id": "08d69950",
   "metadata": {
    "execution": {
     "iopub.execute_input": "2023-10-13T22:22:47.338261Z",
     "iopub.status.busy": "2023-10-13T22:22:47.337750Z",
     "iopub.status.idle": "2023-10-13T22:22:47.415976Z",
     "shell.execute_reply": "2023-10-13T22:22:47.414916Z"
    },
    "papermill": {
     "duration": 0.114746,
     "end_time": "2023-10-13T22:22:47.418785",
     "exception": false,
     "start_time": "2023-10-13T22:22:47.304039",
     "status": "completed"
    },
    "tags": []
   },
   "outputs": [
    {
     "name": "stdout",
     "output_type": "stream",
     "text": [
      "Accuracy:0.7667121418826739\n",
      "F1: 0.7551932782300277\n"
     ]
    }
   ],
   "source": [
    "from sklearn.linear_model import LogisticRegression\n",
    "\n",
    "#create a logistic regression instance\n",
    "LogRes=LogisticRegression(C=1,solver='newton-cg',multi_class='ovr',max_iter=1000,penalty='l2')\n",
    "\n",
    "#fit logistic regression model\n",
    "LogRes.fit(XTrainScaled,y_train)\n",
    "\n",
    "#Predict then test accuracy of predictions of logistic regression model using split test set\n",
    "y_pred=LogRes.predict(XTestScaled)\n",
    "print(f\"Accuracy:{accuracy_score(y_test,y_pred)}\")\n",
    "print(f\"F1: {f1_score(y_test,y_pred, average='macro')}\")\n",
    "\n",
    "#Predict the target column using the scaled test set\n",
    "pred=LogRes.predict(testscaled)\n",
    "\n",
    "#Output the predictions into the format required (columns: ID #0) into CSV format\n",
    "out=pd.DataFrame({'ID':test.ID,'Churn':pred})\n",
    "out.to_csv('LogResSubmission.csv',index=False)"
   ]
  },
  {
   "cell_type": "markdown",
   "id": "ae5c0575",
   "metadata": {
    "papermill": {
     "duration": 0.031238,
     "end_time": "2023-10-13T22:22:47.481631",
     "exception": false,
     "start_time": "2023-10-13T22:22:47.450393",
     "status": "completed"
    },
    "tags": []
   },
   "source": [
    "Logistic Regression provided a respectable score of .74854, very close to the RandomForest model and slightly lower than SVM"
   ]
  },
  {
   "cell_type": "code",
   "execution_count": 34,
   "id": "479f71e7",
   "metadata": {
    "execution": {
     "iopub.execute_input": "2023-10-13T22:22:47.538741Z",
     "iopub.status.busy": "2023-10-13T22:22:47.538373Z",
     "iopub.status.idle": "2023-10-13T22:22:50.213121Z",
     "shell.execute_reply": "2023-10-13T22:22:50.212002Z"
    },
    "papermill": {
     "duration": 2.70276,
     "end_time": "2023-10-13T22:22:50.215644",
     "exception": false,
     "start_time": "2023-10-13T22:22:47.512884",
     "status": "completed"
    },
    "tags": []
   },
   "outputs": [
    {
     "name": "stdout",
     "output_type": "stream",
     "text": [
      "Accuracy:0.7827421555252387\n",
      "F1: 0.7724001672435008\n"
     ]
    }
   ],
   "source": [
    "from sklearn.svm import SVC\n",
    "\n",
    "#create a support vector machine instance\n",
    "svm=SVC(kernel='rbf',C=1,gamma='auto',random_state=1)\n",
    "\n",
    "\n",
    "#fit support vector machine model\n",
    "svm.fit(XTrainScaled,y_train)\n",
    "\n",
    "#Predict then test accuracy of predictions of the support vector machine model using split test set\n",
    "y_pred=svm.predict(XTestScaled)\n",
    "print(f\"Accuracy:{accuracy_score(y_test,y_pred)}\")\n",
    "print(f\"F1: {f1_score(y_test,y_pred, average='macro')}\")\n",
    "\n",
    "#Predict the target column using the scaled test set\n",
    "pred=svm.predict(testscaled)\n",
    "\n",
    "#Output the predictions into the format required (columns: ID #0) into CSV format\n",
    "out=pd.DataFrame({'ID':test.ID,'Churn':pred})\n",
    "out.to_csv('SVMSubmission.csv',index=False)"
   ]
  },
  {
   "cell_type": "markdown",
   "id": "fde0e0aa",
   "metadata": {
    "papermill": {
     "duration": 0.01573,
     "end_time": "2023-10-13T22:22:50.247989",
     "exception": false,
     "start_time": "2023-10-13T22:22:50.232259",
     "status": "completed"
    },
    "tags": []
   },
   "source": [
    "#### The SVM provided a submission accuracy of .74915, very close to the random forest model and slightly above LogisticRegression"
   ]
  },
  {
   "cell_type": "code",
   "execution_count": 35,
   "id": "3c0dee14",
   "metadata": {
    "execution": {
     "iopub.execute_input": "2023-10-13T22:22:50.282115Z",
     "iopub.status.busy": "2023-10-13T22:22:50.281193Z",
     "iopub.status.idle": "2023-10-13T22:22:50.333218Z",
     "shell.execute_reply": "2023-10-13T22:22:50.331867Z"
    },
    "papermill": {
     "duration": 0.071262,
     "end_time": "2023-10-13T22:22:50.335232",
     "exception": false,
     "start_time": "2023-10-13T22:22:50.263970",
     "status": "completed"
    },
    "tags": []
   },
   "outputs": [
    {
     "name": "stdout",
     "output_type": "stream",
     "text": [
      "Accuracy:0.8802864938608458\n",
      "F1: 0.8732893017806295\n"
     ]
    }
   ],
   "source": [
    "from sklearn.tree import DecisionTreeClassifier\n",
    "\n",
    "#Create a decision tree classifier instance\n",
    "Tree=DecisionTreeClassifier(criterion='gini',max_depth=160,random_state=1)\n",
    "\n",
    "#Create a decision tree classifier instance\n",
    "Tree.fit(XTrainScaled,y_train)\n",
    "\n",
    "#Predict then test accuracy of predictions of logistic regression model using split test set\n",
    "y_pred=Tree.predict(XTestScaled)\n",
    "print(f\"Accuracy:{accuracy_score(y_test,y_pred)}\")\n",
    "print(f\"F1: {f1_score(y_test,y_pred, average='macro')}\")\n",
    "\n",
    "#Predict the target column using the scaled test set\n",
    "pred=Tree.predict(testscaled)\n",
    "\n",
    "#Output the predictions into the format required (columns: ID #0) into CSV format\n",
    "out=pd.DataFrame({'ID':test.ID,'Churn':pred})\n",
    "out.to_csv('TreeSubmission.csv',index=False)"
   ]
  },
  {
   "cell_type": "markdown",
   "id": "59d7366d",
   "metadata": {
    "papermill": {
     "duration": 0.016693,
     "end_time": "2023-10-13T22:22:50.368458",
     "exception": false,
     "start_time": "2023-10-13T22:22:50.351765",
     "status": "completed"
    },
    "tags": []
   },
   "source": [
    "#### The Decision Tree classifier provided a submission accuracy of .655, lower than the Random Forest model."
   ]
  },
  {
   "cell_type": "code",
   "execution_count": 36,
   "id": "6c3d554d",
   "metadata": {
    "execution": {
     "iopub.execute_input": "2023-10-13T22:22:50.402368Z",
     "iopub.status.busy": "2023-10-13T22:22:50.401987Z",
     "iopub.status.idle": "2023-10-13T22:22:51.090292Z",
     "shell.execute_reply": "2023-10-13T22:22:51.089484Z"
    },
    "papermill": {
     "duration": 0.707804,
     "end_time": "2023-10-13T22:22:51.092540",
     "exception": false,
     "start_time": "2023-10-13T22:22:50.384736",
     "status": "completed"
    },
    "tags": []
   },
   "outputs": [
    {
     "name": "stdout",
     "output_type": "stream",
     "text": [
      "Accuracy:0.8148021828103683\n",
      "F1: 0.8011976272221379\n"
     ]
    }
   ],
   "source": [
    "from sklearn.neighbors import KNeighborsClassifier\n",
    "\n",
    "#Create a K nearest neighbors instance\n",
    "knn=KNeighborsClassifier(n_neighbors=3,p=1,metric='minkowski')\n",
    "\n",
    "#Fit K nearest neighbors model\n",
    "knn.fit(XTrainScaled,y_train)\n",
    "\n",
    "#Predict then test accuracy of predictions of logistic regression model using split test set\n",
    "y_pred=knn.predict(XTestScaled)\n",
    "print(f\"Accuracy:{accuracy_score(y_test,y_pred)}\")\n",
    "print(f\"F1: {f1_score(y_test,y_pred, average='macro')}\")\n",
    "\n",
    "#Predict the target column using the scaled test set\n",
    "pred=knn.predict(testscaled)\n",
    "\n",
    "#Output the predictions into the format required (columns: ID #0) into CSV format\n",
    "out=pd.DataFrame({'ID':test.ID,'Churn':pred})\n",
    "out.to_csv('KNNSubmission.csv',index=False)"
   ]
  },
  {
   "cell_type": "markdown",
   "id": "a2d84639",
   "metadata": {
    "papermill": {
     "duration": 0.018153,
     "end_time": "2023-10-13T22:22:51.133628",
     "exception": false,
     "start_time": "2023-10-13T22:22:51.115475",
     "status": "completed"
    },
    "tags": []
   },
   "source": [
    "#### The submission accuracy of the KNN model was .69, much lower than the Random Forest."
   ]
  },
  {
   "cell_type": "code",
   "execution_count": 37,
   "id": "3b47f37d",
   "metadata": {
    "execution": {
     "iopub.execute_input": "2023-10-13T22:22:51.174237Z",
     "iopub.status.busy": "2023-10-13T22:22:51.173145Z",
     "iopub.status.idle": "2023-10-13T22:22:51.974552Z",
     "shell.execute_reply": "2023-10-13T22:22:51.973307Z"
    },
    "papermill": {
     "duration": 0.821483,
     "end_time": "2023-10-13T22:22:51.976437",
     "exception": false,
     "start_time": "2023-10-13T22:22:51.154954",
     "status": "completed"
    },
    "tags": []
   },
   "outputs": [
    {
     "name": "stdout",
     "output_type": "stream",
     "text": [
      "Accuracy:0.9027967257844475\n",
      "F1: 0.8977562587615076\n"
     ]
    }
   ],
   "source": [
    "from sklearn.ensemble import RandomForestClassifier\n",
    "\n",
    "#Create a random forest instance\n",
    "RandomForest=RandomForestClassifier(n_estimators=128,random_state=1,n_jobs=2,max_features='sqrt',max_depth=16384)\n",
    "\n",
    "#Fit random forest model\n",
    "RandomForest.fit(X_train,y_train)\n",
    "\n",
    "#Predict then test accuracy of predictions of logistic regression model using split test set\n",
    "y_pred=RandomForest.predict(X_test)\n",
    "print(f\"Accuracy:{accuracy_score(y_test,y_pred)}\")\n",
    "print(f\"F1: {f1_score(y_test,y_pred, average='macro')}\")\n",
    "\n",
    "#Predict the target column using the scaled test set\n",
    "pred=RandomForest.predict(test)\n",
    "\n",
    "#Output the predictions into the format required (columns: ID #0) into CSV format\n",
    "out=pd.DataFrame({'ID':test.ID,'Churn':pred})\n",
    "out.to_csv('RandomForestSubmission.csv',index=False)"
   ]
  },
  {
   "cell_type": "markdown",
   "id": "6bb3cc5b",
   "metadata": {
    "papermill": {
     "duration": 0.016129,
     "end_time": "2023-10-13T22:22:52.009091",
     "exception": false,
     "start_time": "2023-10-13T22:22:51.992962",
     "status": "completed"
    },
    "tags": []
   },
   "source": [
    "#### Next try the XGBoost ensemble model. We'll setup a grid search to test some different hyperparameters."
   ]
  },
  {
   "cell_type": "code",
   "execution_count": 38,
   "id": "0fb67e68",
   "metadata": {
    "execution": {
     "iopub.execute_input": "2023-10-13T22:22:52.044474Z",
     "iopub.status.busy": "2023-10-13T22:22:52.043539Z",
     "iopub.status.idle": "2023-10-13T22:22:52.203348Z",
     "shell.execute_reply": "2023-10-13T22:22:52.202323Z"
    },
    "papermill": {
     "duration": 0.180239,
     "end_time": "2023-10-13T22:22:52.205663",
     "exception": false,
     "start_time": "2023-10-13T22:22:52.025424",
     "status": "completed"
    },
    "tags": []
   },
   "outputs": [],
   "source": [
    "import xgboost as xgb\n",
    "from sklearn.model_selection import GridSearchCV\n",
    "param_grid = {\n",
    "    'max_depth': range (7, 11), # max depth of decisions in the tree\n",
    "    'n_estimators': [500,1000], # number of trees in the ensemble model\n",
    "    'min_child_weight': [1, 5], # min number of instances for each node. the larger the value the more conservative the model\n",
    "    'subsample': [0.8, 1.0],# % of training data randomly sampled before a new tree growing iteration\n",
    "    'gamma': [0.5, 2, 5], # cross tree regularization, probably most relevant only if the selected max_depth doesn't produce a very deep tree\n",
    "    'colsample_bytree': [0.6, 1.0], # % of randomly selected features that are used to train each tree\n",
    "}\n",
    "\n",
    "xgbModel = xgb.XGBClassifier(random_state=1)\n",
    "grid_search = GridSearchCV(\n",
    "    xgbModel,\n",
    "    param_grid,\n",
    "    scoring='f1_macro',\n",
    "    cv=10,  \n",
    "    n_jobs=-1,\n",
    ")\n",
    "# This takes hours to run so it's commented out now to prevent re-running\n",
    "# Best parameters found: \n",
    "# {'max_depth': 9, 'min_child_weight': 1, 'n_estimators': 500, 'subsample': 0.8}\n",
    "# f1: 0.916622805928499\n",
    "\n",
    "# grid_search.fit(X, y)\n",
    "# print(\"XGBoost tuning\")\n",
    "# print(f\"Best score: {grid_search.best_score_}\")\n",
    "# print(grid_search.best_params_)"
   ]
  },
  {
   "cell_type": "code",
   "execution_count": 39,
   "id": "6940e601",
   "metadata": {
    "execution": {
     "iopub.execute_input": "2023-10-13T22:22:52.241482Z",
     "iopub.status.busy": "2023-10-13T22:22:52.240646Z",
     "iopub.status.idle": "2023-10-13T22:23:02.128685Z",
     "shell.execute_reply": "2023-10-13T22:23:02.127764Z"
    },
    "papermill": {
     "duration": 9.907932,
     "end_time": "2023-10-13T22:23:02.130990",
     "exception": false,
     "start_time": "2023-10-13T22:22:52.223058",
     "status": "completed"
    },
    "tags": []
   },
   "outputs": [],
   "source": [
    "import xgboost as xgb\n",
    "xgbModel = xgb.XGBClassifier(random_state=1, max_depth=10, n_estimators=1000, min_child_weight=1, subsample=0.8, colsample_bytree=0.6, gamma=0.5)\n",
    "xgbModel.fit(X,y)\n",
    "\n",
    "#Predict the target column using the original test set\n",
    "#testx = test.drop(['customerID'], axis=1)\n",
    "pred=xgbModel.predict(test)\n",
    "\n",
    "#Output the predictions into the format required (columns: ID #0) into CSV format\n",
    "out=pd.DataFrame({'ID':test.ID,'Churn':pred})\n",
    "out.to_csv('XGBSubmission.csv',index=False)"
   ]
  },
  {
   "cell_type": "markdown",
   "id": "6925d38a",
   "metadata": {
    "papermill": {
     "duration": 0.016063,
     "end_time": "2023-10-13T22:23:02.163983",
     "exception": false,
     "start_time": "2023-10-13T22:23:02.147920",
     "status": "completed"
    },
    "tags": []
   },
   "source": [
    "### Even with tuning, the random forest is providing a best F1 score of .8978, which is lower than the .9603 from SVM. On working with submission testing, the Random Forest classifier provided the best AUC of .76252 of all models tested."
   ]
  },
  {
   "cell_type": "code",
   "execution_count": 40,
   "id": "a9973902",
   "metadata": {
    "execution": {
     "iopub.execute_input": "2023-10-13T22:23:02.198337Z",
     "iopub.status.busy": "2023-10-13T22:23:02.197983Z",
     "iopub.status.idle": "2023-10-13T22:23:12.687043Z",
     "shell.execute_reply": "2023-10-13T22:23:12.685965Z"
    },
    "papermill": {
     "duration": 10.509001,
     "end_time": "2023-10-13T22:23:12.689472",
     "exception": false,
     "start_time": "2023-10-13T22:23:02.180471",
     "status": "completed"
    },
    "tags": []
   },
   "outputs": [
    {
     "name": "stdout",
     "output_type": "stream",
     "text": [
      "Accuracy:0.8625511596180082\n",
      "F1: 0.8538087369866014\n"
     ]
    }
   ],
   "source": [
    "from sklearn.ensemble import VotingClassifier\n",
    "\n",
    "clf2=RandomForestClassifier(n_estimators=128,random_state=1,n_jobs=2,max_features='sqrt',max_depth=16384)\n",
    "clf3=SVC(kernel='rbf',C=1,gamma='auto',random_state=1,probability=True)\n",
    "\n",
    "\n",
    "eclf1=VotingClassifier(estimators=[('rf',clf2),('sv',clf3)],voting='soft')\n",
    "eclf1=eclf1.fit(XTrainScaled,y_train)\n",
    "\n",
    "#Predict then test accuracy of predictions of logistic regression model using split test set\n",
    "y_pred=eclf1.predict(XTestScaled)\n",
    "print(f\"Accuracy:{accuracy_score(y_test,y_pred)}\")\n",
    "print(f\"F1: {f1_score(y_test,y_pred, average='macro')}\")\n",
    "\n",
    "#Predict the target column using the scaled test set\n",
    "pred=eclf1.predict(testscaled)\n",
    "\n",
    "#Output the predictions into the format required (columns: ID #0) into CSV format\n",
    "out=pd.DataFrame({'ID':test.ID,'Churn':pred})\n",
    "out.to_csv('Voter.csv',index=False)"
   ]
  },
  {
   "cell_type": "markdown",
   "id": "cf1ce556",
   "metadata": {
    "papermill": {
     "duration": 0.016124,
     "end_time": "2023-10-13T22:23:12.722568",
     "exception": false,
     "start_time": "2023-10-13T22:23:12.706444",
     "status": "completed"
    },
    "tags": []
   },
   "source": [
    "### The voting classifier provided a submission score of .75993 when using soft voting and only the support vector machine and random forest models. This is close to an average between SVM and RF models and did not improve performance."
   ]
  },
  {
   "cell_type": "code",
   "execution_count": 41,
   "id": "eea755cd",
   "metadata": {
    "execution": {
     "iopub.execute_input": "2023-10-13T22:23:12.757316Z",
     "iopub.status.busy": "2023-10-13T22:23:12.756916Z",
     "iopub.status.idle": "2023-10-13T23:04:36.548936Z",
     "shell.execute_reply": "2023-10-13T23:04:36.547548Z"
    },
    "papermill": {
     "duration": 2483.828489,
     "end_time": "2023-10-13T23:04:36.567605",
     "exception": false,
     "start_time": "2023-10-13T22:23:12.739116",
     "status": "completed"
    },
    "tags": []
   },
   "outputs": [
    {
     "name": "stdout",
     "output_type": "stream",
     "text": [
      "RF tuning\n",
      "Best score: 0.9445216996291805\n",
      "{'n_estimators': 400, 'min_samples_split': 2, 'min_samples_leaf': 1, 'max_depth': 40, 'bootstrap': False}\n"
     ]
    }
   ],
   "source": [
    "from sklearn.model_selection import RandomizedSearchCV\n",
    "rf_grid = {'bootstrap': [True, False],\n",
    " 'max_depth': [10, 20, 30, 40, 50, None],\n",
    " 'min_samples_leaf': [1, 2, 4],\n",
    " 'min_samples_split': [2, 5, 10],\n",
    " 'n_estimators': [200, 400, 600, 800, 1000]\n",
    "}\n",
    "\n",
    "rf = RandomForestClassifier()\n",
    "rf_random = RandomizedSearchCV(estimator = rf, param_distributions = rf_grid, \n",
    "                               n_iter = 100, cv = 10, random_state=1, \n",
    "                               n_jobs = -1, scoring='f1_macro')\n",
    "# Fit the random search model\n",
    "rf_random.fit(X, y)\n",
    "\n",
    "print(\"RF tuning\")\n",
    "print(f\"Best score: {rf_random.best_score_}\")\n",
    "print(rf_random.best_params_)\n",
    "best_params = rf_random.best_params_\n",
    "\n",
    "# best_params={'n_estimators': 800, 'min_samples_split': 2, 'min_samples_leaf': 1, \n",
    "#              'max_depth': 30, 'bootstrap': False}"
   ]
  },
  {
   "cell_type": "code",
   "execution_count": 42,
   "id": "03b227fa",
   "metadata": {
    "execution": {
     "iopub.execute_input": "2023-10-13T23:04:36.602971Z",
     "iopub.status.busy": "2023-10-13T23:04:36.602598Z",
     "iopub.status.idle": "2023-10-13T23:04:39.570608Z",
     "shell.execute_reply": "2023-10-13T23:04:39.569773Z"
    },
    "papermill": {
     "duration": 2.988672,
     "end_time": "2023-10-13T23:04:39.572772",
     "exception": false,
     "start_time": "2023-10-13T23:04:36.584100",
     "status": "completed"
    },
    "tags": []
   },
   "outputs": [],
   "source": [
    "\n",
    "RandomForest=RandomForestClassifier(n_estimators=best_params['n_estimators'],\n",
    "                                    min_samples_split=best_params['min_samples_split'],\n",
    "                                    min_samples_leaf=best_params['min_samples_leaf'],\n",
    "                                    max_depth=best_params['max_depth'],\n",
    "                                    bootstrap=best_params['bootstrap'],\n",
    "                                    random_state=1,n_jobs=-1)\n",
    "\n",
    "#Fit random forest model using the entire training dataset\n",
    "RandomForest.fit(X,y)\n",
    "\n",
    "#Predict the target column using the scaled test set\n",
    "pred=RandomForest.predict(test)\n",
    "\n",
    "#Output the predictions into the format required (columns: ID #0) into CSV format\n",
    "out=pd.DataFrame({'ID':test.ID,'Churn':pred})\n",
    "out.to_csv('RandomForest-tunedSubmission.csv',index=False)\n"
   ]
  },
  {
   "cell_type": "markdown",
   "id": "275230eb",
   "metadata": {
    "papermill": {
     "duration": 0.015889,
     "end_time": "2023-10-13T23:04:39.605240",
     "exception": false,
     "start_time": "2023-10-13T23:04:39.589351",
     "status": "completed"
    },
    "tags": []
   },
   "source": [
    "### Since RF worked so well, let's see what the most important features were. This may help with model understandability."
   ]
  },
  {
   "cell_type": "code",
   "execution_count": 43,
   "id": "b0f1211c",
   "metadata": {
    "execution": {
     "iopub.execute_input": "2023-10-13T23:04:39.639919Z",
     "iopub.status.busy": "2023-10-13T23:04:39.639549Z",
     "iopub.status.idle": "2023-10-13T23:04:39.728026Z",
     "shell.execute_reply": "2023-10-13T23:04:39.726870Z"
    },
    "papermill": {
     "duration": 0.108173,
     "end_time": "2023-10-13T23:04:39.730064",
     "exception": false,
     "start_time": "2023-10-13T23:04:39.621891",
     "status": "completed"
    },
    "tags": []
   },
   "outputs": [
    {
     "name": "stdout",
     "output_type": "stream",
     "text": [
      " 1 TotalCharges                                  0.145396\n",
      " 2 MonthlyCharges                                0.141841\n",
      " 3 tenure                                        0.131231\n",
      " 4 ID                                            0.124866\n",
      " 5 Contract                                      0.120987\n",
      " 6 TechSupport                                   0.052034\n",
      " 7 OnlineSecurity                                0.046684\n",
      " 8 PaymentMethod                                 0.044595\n",
      " 9 InternetService                               0.034987\n",
      "10 OnlineBackup                                  0.022256\n",
      "11 PaperlessBilling                              0.020232\n",
      "12 DeviceProtection                              0.018598\n",
      "13 Partner                                       0.017187\n",
      "14 MultipleLines                                 0.016971\n",
      "15 Dependents                                    0.015613\n",
      "16 StreamingMovies                               0.014305\n",
      "17 SeniorCitizen                                 0.014180\n",
      "18 StreamingTV                                   0.013551\n",
      "19 PhoneService                                  0.004484\n"
     ]
    }
   ],
   "source": [
    "# Use the random forest model's important features to find the most\n",
    "# important features, and drop the rest\n",
    "important_features = RandomForest.feature_importances_\n",
    "indices = np.argsort(important_features)[::-1]\n",
    "ranked_features = pd.DataFrame()\n",
    "features = X_train.columns\n",
    "top_features=[]\n",
    "top_features_importance=[]\n",
    "\n",
    "# print a table of info about each feature in the training set\n",
    "# and make a list of top features and their importances\n",
    "for f in range(X_train.shape[1]): \n",
    "    top_features.append(features[indices[f]])\n",
    "    top_features_importance.append(important_features[indices[f]])\n",
    "    print(\"%2d %-*s %f\" % (f + 1, 45, features[indices[f]], \n",
    "                           important_features[indices[f]]))\n",
    "\n",
    "top_features_df = pd.DataFrame({'feature':top_features,\n",
    "                                'importance':top_features_importance})"
   ]
  }
 ],
 "metadata": {
  "kernelspec": {
   "display_name": "Python 3",
   "language": "python",
   "name": "python3"
  },
  "language_info": {
   "codemirror_mode": {
    "name": "ipython",
    "version": 3
   },
   "file_extension": ".py",
   "mimetype": "text/x-python",
   "name": "python",
   "nbconvert_exporter": "python",
   "pygments_lexer": "ipython3",
   "version": "3.10.12"
  },
  "papermill": {
   "default_parameters": {},
   "duration": 2531.467055,
   "end_time": "2023-10-13T23:04:42.369379",
   "environment_variables": {},
   "exception": null,
   "input_path": "__notebook__.ipynb",
   "output_path": "__notebook__.ipynb",
   "parameters": {},
   "start_time": "2023-10-13T22:22:30.902324",
   "version": "2.4.0"
  }
 },
 "nbformat": 4,
 "nbformat_minor": 5
}
